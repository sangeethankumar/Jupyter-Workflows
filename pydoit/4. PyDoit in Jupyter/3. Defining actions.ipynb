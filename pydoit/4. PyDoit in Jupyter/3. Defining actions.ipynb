{
 "cells": [
  {
   "cell_type": "code",
   "execution_count": 1,
   "metadata": {},
   "outputs": [],
   "source": [
    "from doit.tools import load_ipython_extension\n",
    "load_ipython_extension()"
   ]
  },
  {
   "cell_type": "markdown",
   "metadata": {},
   "source": [
    "## A function with no arguments"
   ]
  },
  {
   "cell_type": "code",
   "execution_count": 2,
   "metadata": {},
   "outputs": [],
   "source": [
    "def task_simple_action():\n",
    "    def simple_action():\n",
    "        with open('simple.txt', 'w') as f:\n",
    "            f.write('simple')\n",
    "        \n",
    "    return {\n",
    "        'actions': [simple_action]\n",
    "    }"
   ]
  },
  {
   "cell_type": "code",
   "execution_count": 3,
   "metadata": {},
   "outputs": [
    {
     "name": "stdout",
     "output_type": "stream",
     "text": [
      ".  simple_action\n"
     ]
    }
   ],
   "source": [
    "%doit "
   ]
  },
  {
   "cell_type": "markdown",
   "metadata": {},
   "source": [
    "## A function with two args"
   ]
  },
  {
   "cell_type": "code",
   "execution_count": 4,
   "metadata": {},
   "outputs": [],
   "source": [
    "def task_args_action():\n",
    "    def args_action(a, b):\n",
    "        with open('args.txt', 'w') as f:\n",
    "            f.write(f'a={a}, b={b}')\n",
    "\n",
    "    return {\n",
    "        'actions': [(args_action, [3, 5])]\n",
    "    }"
   ]
  },
  {
   "cell_type": "code",
   "execution_count": 5,
   "metadata": {},
   "outputs": [
    {
     "name": "stdout",
     "output_type": "stream",
     "text": [
      ".  args_action\n",
      ".  simple_action\n"
     ]
    }
   ],
   "source": [
    "%doit"
   ]
  },
  {
   "cell_type": "markdown",
   "metadata": {},
   "source": [
    "## A function with kwargs"
   ]
  },
  {
   "cell_type": "code",
   "execution_count": 6,
   "metadata": {},
   "outputs": [],
   "source": [
    "def task_kwargs_action():\n",
    "    def kwargs_action(a, b):\n",
    "        with open('kwargs.txt', 'w') as f:\n",
    "            f.write(f'a={a}, b={b}')\n",
    "\n",
    "    return {\n",
    "        'actions': [(kwargs_action, [], {\n",
    "            'a': 3,\n",
    "            'b': 5\n",
    "        })]\n",
    "    }\n"
   ]
  },
  {
   "cell_type": "code",
   "execution_count": 7,
   "metadata": {},
   "outputs": [
    {
     "name": "stdout",
     "output_type": "stream",
     "text": [
      ".  args_action\n",
      ".  kwargs_action\n",
      ".  simple_action\n"
     ]
    }
   ],
   "source": [
    "%doit"
   ]
  },
  {
   "cell_type": "markdown",
   "metadata": {},
   "source": [
    "## A function with both args and kwargs"
   ]
  },
  {
   "cell_type": "code",
   "execution_count": 8,
   "metadata": {},
   "outputs": [],
   "source": [
    "def task_args_kwargs_action():\n",
    "    def args_kwargs_action(a, b, c=10, d=11):\n",
    "        with open('args_kwargs.txt', 'w') as f:\n",
    "            f.write(f'a={a}, b={b}, c={c}, d={d}')\n",
    "\n",
    "    return {\n",
    "        'actions': [(args_kwargs_action, [3, 5], {\n",
    "            'c': 7,\n",
    "            'd': 9\n",
    "        })]\n",
    "    }"
   ]
  },
  {
   "cell_type": "code",
   "execution_count": 9,
   "metadata": {},
   "outputs": [
    {
     "name": "stdout",
     "output_type": "stream",
     "text": [
      ".  args_action\n",
      ".  args_kwargs_action\n",
      ".  kwargs_action\n",
      ".  simple_action\n"
     ]
    }
   ],
   "source": [
    "%doit"
   ]
  }
 ],
 "metadata": {
  "kernelspec": {
   "display_name": "jpydoit",
   "language": "python",
   "name": "python3"
  },
  "language_info": {
   "codemirror_mode": {
    "name": "ipython",
    "version": 3
   },
   "file_extension": ".py",
   "mimetype": "text/x-python",
   "name": "python",
   "nbconvert_exporter": "python",
   "pygments_lexer": "ipython3",
   "version": "3.12.4"
  }
 },
 "nbformat": 4,
 "nbformat_minor": 2
}
