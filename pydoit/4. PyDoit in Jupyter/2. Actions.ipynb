{
 "cells": [
  {
   "cell_type": "code",
   "execution_count": 1,
   "metadata": {},
   "outputs": [],
   "source": [
    "from doit.tools import load_ipython_extension\n",
    "load_ipython_extension()"
   ]
  },
  {
   "cell_type": "code",
   "execution_count": 2,
   "metadata": {},
   "outputs": [],
   "source": [
    "%doit list"
   ]
  },
  {
   "cell_type": "markdown",
   "metadata": {},
   "source": [
    "## Successful Tasks\n",
    "\n",
    "**`task_return_true`**:\n",
    "- **Action**: A function `return_true` that returns `True`.\n",
    "- **Result**: This task will successfully complete because it returns `True`, which is considered a successful outcome."
   ]
  },
  {
   "cell_type": "code",
   "execution_count": 3,
   "metadata": {},
   "outputs": [],
   "source": [
    "def task_return_true():\n",
    "    def return_true():\n",
    "        return True\n",
    "\n",
    "    return {\n",
    "        'actions': [return_true]\n",
    "    }"
   ]
  },
  {
   "cell_type": "code",
   "execution_count": 4,
   "metadata": {},
   "outputs": [
    {
     "name": "stdout",
     "output_type": "stream",
     "text": [
      "return_true   \n"
     ]
    }
   ],
   "source": [
    "%doit list"
   ]
  },
  {
   "cell_type": "code",
   "execution_count": 5,
   "metadata": {},
   "outputs": [
    {
     "name": "stdout",
     "output_type": "stream",
     "text": [
      ".  return_true\n"
     ]
    }
   ],
   "source": [
    "%doit"
   ]
  },
  {
   "cell_type": "markdown",
   "metadata": {},
   "source": [
    "**`task_return_none`**:\n",
    "   - **Action**: A function `return_none` that returns `None`.\n",
    "   - **Result**: This task will also successfully complete because returning `None` is treated as a successful outcome."
   ]
  },
  {
   "cell_type": "code",
   "execution_count": 6,
   "metadata": {},
   "outputs": [],
   "source": [
    "def task_return_none():\n",
    "    def return_none():\n",
    "        return None\n",
    "    \n",
    "    return {\n",
    "        'actions': [return_none]\n",
    "    }"
   ]
  },
  {
   "cell_type": "code",
   "execution_count": 7,
   "metadata": {},
   "outputs": [
    {
     "name": "stdout",
     "output_type": "stream",
     "text": [
      ".  return_none\n",
      ".  return_true\n"
     ]
    }
   ],
   "source": [
    "%doit"
   ]
  },
  {
   "cell_type": "markdown",
   "metadata": {},
   "source": [
    "**`task_return_dictionary`**:\n",
    "   - **Action**: A function `return_dict` that returns a dictionary with a single key-value pair (`{'return': 'Yes'}`).\n",
    "   - **Result**: This task will successfully complete because returning a dictionary is recognized as a successful outcome."
   ]
  },
  {
   "cell_type": "code",
   "execution_count": 8,
   "metadata": {},
   "outputs": [],
   "source": [
    "def task_return_dictionary():\n",
    "    def return_dict():\n",
    "        return {\n",
    "            'return': \"Yes\"\n",
    "        }\n",
    "    \n",
    "    return {\n",
    "        'actions': [return_dict]\n",
    "    }  "
   ]
  },
  {
   "cell_type": "code",
   "execution_count": 9,
   "metadata": {},
   "outputs": [
    {
     "name": "stdout",
     "output_type": "stream",
     "text": [
      "return_dictionary   \n",
      "return_none         \n",
      "return_true         \n"
     ]
    }
   ],
   "source": [
    "%doit list"
   ]
  },
  {
   "cell_type": "code",
   "execution_count": 10,
   "metadata": {},
   "outputs": [
    {
     "name": "stdout",
     "output_type": "stream",
     "text": [
      ".  return_dictionary\n",
      ".  return_none\n",
      ".  return_true\n"
     ]
    }
   ],
   "source": [
    "%doit"
   ]
  },
  {
   "cell_type": "markdown",
   "metadata": {},
   "source": [
    "**`task_return_string`**:\n",
    "   - **Action**: A function `return_str` that returns the string `\"Yes\"`.\n",
    "   - **Result**: This task will successfully complete because returning a string is considered a successful outcome."
   ]
  },
  {
   "cell_type": "code",
   "execution_count": 11,
   "metadata": {},
   "outputs": [],
   "source": [
    "def task_return_string():\n",
    "    def return_str():\n",
    "        return \"Yes\"\n",
    "    \n",
    "    return {\n",
    "        'actions': [return_str]\n",
    "    } "
   ]
  },
  {
   "cell_type": "code",
   "execution_count": 12,
   "metadata": {},
   "outputs": [
    {
     "name": "stdout",
     "output_type": "stream",
     "text": [
      ".  return_dictionary\n",
      ".  return_none\n",
      ".  return_string\n",
      ".  return_true\n"
     ]
    }
   ],
   "source": [
    "%doit"
   ]
  },
  {
   "cell_type": "markdown",
   "metadata": {},
   "source": [
    "## Unsuccessful Tasks\n",
    "\n",
    "**`task_return_false`**:\n",
    "   - **Action**: A function `return_false` that returns `False`.\n",
    "   - **Result**: This task will be considered to have generally failed because returning `False` is indicative of a task failure."
   ]
  },
  {
   "cell_type": "code",
   "execution_count": 13,
   "metadata": {},
   "outputs": [],
   "source": [
    "def task_return_false():\n",
    "    def return_false():\n",
    "        return False\n",
    "    \n",
    "    return {\n",
    "        'actions': [return_false]\n",
    "    }    "
   ]
  },
  {
   "cell_type": "code",
   "execution_count": 14,
   "metadata": {},
   "outputs": [
    {
     "name": "stdout",
     "output_type": "stream",
     "text": [
      ".  return_dictionary\n",
      ".  return_false\n",
      "TaskFailed - taskid:return_false\n",
      "Python Task failed: '<function task_return_false.<locals>.return_false at 0x000001A4E2070360>' returned False\n",
      "\n",
      "########################################\n",
      "return_false <stdout>:\n",
      "\n"
     ]
    }
   ],
   "source": [
    "%doit"
   ]
  },
  {
   "cell_type": "markdown",
   "metadata": {},
   "source": [
    "**`task_raise_exception`**:\n",
    "   - **Action**: A function `raise_exception` that raises an `Exception` with the message `'Nope'`.\n",
    "   - **Result**: This task will result in an error because it raises an exception, which is treated as a task error."
   ]
  },
  {
   "cell_type": "code",
   "execution_count": 15,
   "metadata": {},
   "outputs": [],
   "source": [
    "def task_raise_exception():\n",
    "    def raise_exception():\n",
    "        raise Exception('Nope')\n",
    "    \n",
    "    return {\n",
    "        'actions': [raise_exception]\n",
    "    }      "
   ]
  },
  {
   "cell_type": "code",
   "execution_count": 16,
   "metadata": {},
   "outputs": [
    {
     "name": "stdout",
     "output_type": "stream",
     "text": [
      ".  raise_exception\n",
      "TaskError - taskid:raise_exception\n",
      "PythonAction Error\n",
      "Traceback (most recent call last):\n",
      "  File \"c:\\Users\\sangeetha\\anaconda3\\envs\\jpydoit\\Lib\\site-packages\\doit\\action.py\", line 461, in execute\n",
      "    returned_value = self.py_callable(*self.args, **kwargs)\n",
      "                     ^^^^^^^^^^^^^^^^^^^^^^^^^^^^^^^^^^^^^^\n",
      "  File \"C:\\Users\\sangeetha\\AppData\\Local\\Temp\\ipykernel_17116\\2240704751.py\", line 3, in raise_exception\n",
      "    raise Exception('Nope')\n",
      "Exception: Nope\n",
      "\n",
      "########################################\n",
      "raise_exception <stdout>:\n",
      "\n"
     ]
    }
   ],
   "source": [
    "%doit"
   ]
  }
 ],
 "metadata": {
  "kernelspec": {
   "display_name": "jpydoit",
   "language": "python",
   "name": "python3"
  },
  "language_info": {
   "codemirror_mode": {
    "name": "ipython",
    "version": 3
   },
   "file_extension": ".py",
   "mimetype": "text/x-python",
   "name": "python",
   "nbconvert_exporter": "python",
   "pygments_lexer": "ipython3",
   "version": "3.12.4"
  }
 },
 "nbformat": 4,
 "nbformat_minor": 2
}
