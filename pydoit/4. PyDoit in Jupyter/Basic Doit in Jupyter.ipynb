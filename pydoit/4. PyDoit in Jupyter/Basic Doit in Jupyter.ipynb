{
 "cells": [
  {
   "cell_type": "code",
   "execution_count": 1,
   "metadata": {},
   "outputs": [],
   "source": [
    "from doit import load_ipython_extension\n",
    "load_ipython_extension()"
   ]
  },
  {
   "cell_type": "markdown",
   "metadata": {},
   "source": [
    "## Getting help text for doit"
   ]
  },
  {
   "cell_type": "code",
   "execution_count": 2,
   "metadata": {},
   "outputs": [
    {
     "name": "stdout",
     "output_type": "stream",
     "text": [
      "doit -- automation tool\n",
      "http://pydoit.org\n",
      "\n",
      "Commands\n",
      "  doit clean             clean action / remove targets\n",
      "  doit dumpdb            dump dependency DB\n",
      "  doit forget            clear successful run status from internal DB\n",
      "  doit help              show help\n",
      "  doit ignore            ignore task (skip) on subsequent runs\n",
      "  doit info              show info about a task\n",
      "  doit list              list tasks from dodo file\n",
      "  doit reset-dep         recompute and save the state of file dependencies without executing actions\n",
      "  doit run               run tasks\n",
      "  doit strace            use strace to list file_deps and targets\n",
      "  doit tabcompletion     generate script for tab-completion\n",
      "\n",
      "  doit help              show help / reference\n",
      "  doit help task         show help on task dictionary fields\n",
      "  doit help <command>    show command usage\n",
      "  doit help <task-name>  show task usage\n"
     ]
    }
   ],
   "source": [
    "%doit --help"
   ]
  },
  {
   "cell_type": "markdown",
   "metadata": {},
   "source": [
    "## Defining tasks"
   ]
  },
  {
   "cell_type": "code",
   "execution_count": 3,
   "metadata": {},
   "outputs": [],
   "source": [
    "# A simple task\n",
    "def task_hello():\n",
    "    return {\n",
    "        'actions': ['echo Hello'],\n",
    "    }"
   ]
  },
  {
   "cell_type": "markdown",
   "metadata": {},
   "source": [
    "Listing all the tasks that doit sees"
   ]
  },
  {
   "cell_type": "code",
   "execution_count": 4,
   "metadata": {},
   "outputs": [
    {
     "name": "stdout",
     "output_type": "stream",
     "text": [
      "hello   \n"
     ]
    }
   ],
   "source": [
    "%doit list"
   ]
  },
  {
   "cell_type": "markdown",
   "metadata": {},
   "source": [
    "Running doit"
   ]
  },
  {
   "cell_type": "code",
   "execution_count": 5,
   "metadata": {},
   "outputs": [
    {
     "name": "stdout",
     "output_type": "stream",
     "text": [
      ".  hello\n"
     ]
    }
   ],
   "source": [
    "%doit"
   ]
  },
  {
   "cell_type": "markdown",
   "metadata": {},
   "source": [
    "Setting verbosity to 1"
   ]
  },
  {
   "cell_type": "code",
   "execution_count": 6,
   "metadata": {},
   "outputs": [],
   "source": [
    "def task_hello():\n",
    "    return {\n",
    "        'actions': ['echo Hello'],\n",
    "        'verbosity': 1\n",
    "    }"
   ]
  },
  {
   "cell_type": "code",
   "execution_count": 7,
   "metadata": {},
   "outputs": [
    {
     "name": "stdout",
     "output_type": "stream",
     "text": [
      ".  hello\n"
     ]
    }
   ],
   "source": [
    "%doit"
   ]
  },
  {
   "cell_type": "markdown",
   "metadata": {},
   "source": [
    "No change. Setting to 2"
   ]
  },
  {
   "cell_type": "code",
   "execution_count": 8,
   "metadata": {},
   "outputs": [],
   "source": [
    "def task_hello():\n",
    "    return {\n",
    "        'actions': ['echo Hello'],\n",
    "        'verbosity': 2\n",
    "    }"
   ]
  },
  {
   "cell_type": "code",
   "execution_count": 9,
   "metadata": {},
   "outputs": [
    {
     "name": "stdout",
     "output_type": "stream",
     "text": [
      ".  hello\n",
      "Hello\n"
     ]
    }
   ],
   "source": [
    "%doit"
   ]
  },
  {
   "cell_type": "markdown",
   "metadata": {},
   "source": [
    "Shows the output. Let's define another task."
   ]
  },
  {
   "cell_type": "code",
   "execution_count": 10,
   "metadata": {},
   "outputs": [],
   "source": [
    "def task_bye():\n",
    "    return {\n",
    "        'actions': ['echo Bye']\n",
    "    }"
   ]
  },
  {
   "cell_type": "code",
   "execution_count": 11,
   "metadata": {},
   "outputs": [
    {
     "name": "stdout",
     "output_type": "stream",
     "text": [
      ".  bye\n",
      ".  hello\n",
      "Hello\n"
     ]
    }
   ],
   "source": [
    "%doit"
   ]
  }
 ],
 "metadata": {
  "kernelspec": {
   "display_name": "jpydoit",
   "language": "python",
   "name": "python3"
  },
  "language_info": {
   "codemirror_mode": {
    "name": "ipython",
    "version": 3
   },
   "file_extension": ".py",
   "mimetype": "text/x-python",
   "name": "python",
   "nbconvert_exporter": "python",
   "pygments_lexer": "ipython3",
   "version": "3.12.4"
  }
 },
 "nbformat": 4,
 "nbformat_minor": 2
}
