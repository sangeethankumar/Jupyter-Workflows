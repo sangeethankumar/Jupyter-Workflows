{
 "cells": [
  {
   "cell_type": "code",
   "execution_count": 1,
   "metadata": {},
   "outputs": [],
   "source": [
    "# %pip install pandas "
   ]
  },
  {
   "cell_type": "code",
   "execution_count": 2,
   "metadata": {},
   "outputs": [],
   "source": [
    "from doit.tools import load_ipython_extension\n",
    "import pandas as pd\n",
    "load_ipython_extension()"
   ]
  },
  {
   "cell_type": "code",
   "execution_count": 3,
   "metadata": {},
   "outputs": [],
   "source": [
    "with open('data.csv', 'w') as f:\n",
    "    f.write('name,age\\nabc, 24\\ndef, 30')"
   ]
  },
  {
   "cell_type": "code",
   "execution_count": 4,
   "metadata": {},
   "outputs": [],
   "source": [
    "def task_mean_age():\n",
    "    def mean_age():\n",
    "        df = pd.read_csv('data.csv')\n",
    "        mean_age = df['age'].mean()\n",
    "        with open('mean_age.txt', 'w') as f:\n",
    "            f.write(f'{mean_age}')\n",
    "    return {\n",
    "        'actions': [mean_age]\n",
    "    }"
   ]
  },
  {
   "cell_type": "code",
   "execution_count": 5,
   "metadata": {},
   "outputs": [
    {
     "name": "stdout",
     "output_type": "stream",
     "text": [
      ".  mean_age\n"
     ]
    }
   ],
   "source": [
    "%doit"
   ]
  },
  {
   "cell_type": "code",
   "execution_count": 6,
   "metadata": {},
   "outputs": [
    {
     "name": "stdout",
     "output_type": "stream",
     "text": [
      ".  mean_age\n"
     ]
    }
   ],
   "source": [
    "%doit"
   ]
  },
  {
   "cell_type": "markdown",
   "metadata": {},
   "source": [
    "Still runs. Delete data.csv"
   ]
  },
  {
   "cell_type": "code",
   "execution_count": 7,
   "metadata": {},
   "outputs": [],
   "source": [
    "import os\n",
    "os.remove('data.csv')"
   ]
  },
  {
   "cell_type": "code",
   "execution_count": 8,
   "metadata": {},
   "outputs": [
    {
     "name": "stdout",
     "output_type": "stream",
     "text": [
      ".  mean_age\n",
      "TaskError - taskid:mean_age\n",
      "PythonAction Error\n",
      "Traceback (most recent call last):\n",
      "  File \"c:\\Users\\sangeetha\\anaconda3\\envs\\jpydoit\\Lib\\site-packages\\doit\\action.py\", line 461, in execute\n",
      "    returned_value = self.py_callable(*self.args, **kwargs)\n",
      "                     ^^^^^^^^^^^^^^^^^^^^^^^^^^^^^^^^^^^^^^\n",
      "  File \"C:\\Users\\sangeetha\\AppData\\Local\\Temp\\ipykernel_19360\\3710581590.py\", line 3, in mean_age\n",
      "    df = pd.read_csv('data.csv')\n",
      "         ^^^^^^^^^^^^^^^^^^^^^^^\n",
      "  File \"c:\\Users\\sangeetha\\anaconda3\\envs\\jpydoit\\Lib\\site-packages\\pandas\\io\\parsers\\readers.py\", line 1026, in read_csv\n",
      "    return _read(filepath_or_buffer, kwds)\n",
      "           ^^^^^^^^^^^^^^^^^^^^^^^^^^^^^^^\n",
      "  File \"c:\\Users\\sangeetha\\anaconda3\\envs\\jpydoit\\Lib\\site-packages\\pandas\\io\\parsers\\readers.py\", line 620, in _read\n",
      "    parser = TextFileReader(filepath_or_buffer, **kwds)\n",
      "             ^^^^^^^^^^^^^^^^^^^^^^^^^^^^^^^^^^^^^^^^^^\n",
      "  File \"c:\\Users\\sangeetha\\anaconda3\\envs\\jpydoit\\Lib\\site-packages\\pandas\\io\\parsers\\readers.py\", line 1620, in __init__\n",
      "    self._engine = self._make_engine(f, self.engine)\n",
      "                   ^^^^^^^^^^^^^^^^^^^^^^^^^^^^^^^^^\n",
      "  File \"c:\\Users\\sangeetha\\anaconda3\\envs\\jpydoit\\Lib\\site-packages\\pandas\\io\\parsers\\readers.py\", line 1880, in _make_engine\n",
      "    self.handles = get_handle(\n",
      "                   ^^^^^^^^^^^\n",
      "  File \"c:\\Users\\sangeetha\\anaconda3\\envs\\jpydoit\\Lib\\site-packages\\pandas\\io\\common.py\", line 873, in get_handle\n",
      "    handle = open(\n",
      "             ^^^^^\n",
      "FileNotFoundError: [Errno 2] No such file or directory: 'data.csv'\n",
      "\n",
      "########################################\n",
      "mean_age <stdout>:\n",
      "\n"
     ]
    }
   ],
   "source": [
    "%doit"
   ]
  },
  {
   "cell_type": "markdown",
   "metadata": {},
   "source": [
    "We get an error. Let's see how we can make sure doit looks for data.csv before running the task."
   ]
  },
  {
   "cell_type": "code",
   "execution_count": 9,
   "metadata": {},
   "outputs": [],
   "source": [
    "def task_mean_age():\n",
    "    def mean_age():\n",
    "        df = pd.read_csv('data.csv')\n",
    "        mean_age = df['age'].mean()\n",
    "        with open('mean_age.txt', 'w') as f:\n",
    "            f.write(f'{mean_age}')\n",
    "    return {\n",
    "        'actions': [mean_age],\n",
    "        'file_dep': ['data.csv']\n",
    "    }"
   ]
  },
  {
   "cell_type": "code",
   "execution_count": 10,
   "metadata": {},
   "outputs": [
    {
     "name": "stdout",
     "output_type": "stream",
     "text": [
      "DependencyError - taskid:mean_age\n",
      "ERROR: Task 'mean_age' checking dependencies: Dependent file 'data.csv' does not exist.\n",
      "\n"
     ]
    }
   ],
   "source": [
    "%doit"
   ]
  },
  {
   "cell_type": "markdown",
   "metadata": {},
   "source": [
    "Great! We get a doit error. Let's bring the file back and rerun the the task"
   ]
  },
  {
   "cell_type": "code",
   "execution_count": 11,
   "metadata": {},
   "outputs": [],
   "source": [
    "with open('data.csv', 'w') as f:\n",
    "    f.write('name,age\\nabc, 24\\ndef, 30')"
   ]
  },
  {
   "cell_type": "code",
   "execution_count": 12,
   "metadata": {},
   "outputs": [
    {
     "name": "stdout",
     "output_type": "stream",
     "text": [
      ".  mean_age\n"
     ]
    }
   ],
   "source": [
    "%doit"
   ]
  },
  {
   "cell_type": "code",
   "execution_count": 13,
   "metadata": {},
   "outputs": [
    {
     "name": "stdout",
     "output_type": "stream",
     "text": [
      "-- mean_age\n"
     ]
    }
   ],
   "source": [
    "%doit"
   ]
  },
  {
   "cell_type": "markdown",
   "metadata": {},
   "source": [
    "It does not run again. Let's modify csv."
   ]
  },
  {
   "cell_type": "code",
   "execution_count": 14,
   "metadata": {},
   "outputs": [],
   "source": [
    "with open('data.csv', 'a') as f:\n",
    "    f.write('\\nghi, 35')"
   ]
  },
  {
   "cell_type": "code",
   "execution_count": 15,
   "metadata": {},
   "outputs": [
    {
     "name": "stdout",
     "output_type": "stream",
     "text": [
      ".  mean_age\n"
     ]
    }
   ],
   "source": [
    "%doit"
   ]
  },
  {
   "cell_type": "code",
   "execution_count": 16,
   "metadata": {},
   "outputs": [
    {
     "name": "stdout",
     "output_type": "stream",
     "text": [
      "-- mean_age\n"
     ]
    }
   ],
   "source": [
    "%doit"
   ]
  },
  {
   "cell_type": "markdown",
   "metadata": {},
   "source": [
    "Doit recognizes if the dependent file has changed and runs the task if it has."
   ]
  }
 ],
 "metadata": {
  "kernelspec": {
   "display_name": "jpydoit",
   "language": "python",
   "name": "python3"
  },
  "language_info": {
   "codemirror_mode": {
    "name": "ipython",
    "version": 3
   },
   "file_extension": ".py",
   "mimetype": "text/x-python",
   "name": "python",
   "nbconvert_exporter": "python",
   "pygments_lexer": "ipython3",
   "version": "3.12.4"
  }
 },
 "nbformat": 4,
 "nbformat_minor": 2
}
