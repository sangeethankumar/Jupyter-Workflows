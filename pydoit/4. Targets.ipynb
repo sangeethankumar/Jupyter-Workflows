{
 "cells": [
  {
   "cell_type": "code",
   "execution_count": 1,
   "metadata": {},
   "outputs": [],
   "source": [
    "from doit.tools import load_ipython_extension\n",
    "load_ipython_extension()"
   ]
  },
  {
   "cell_type": "markdown",
   "metadata": {},
   "source": [
    "## Targets (Without File dependencies)"
   ]
  },
  {
   "cell_type": "code",
   "execution_count": 2,
   "metadata": {},
   "outputs": [],
   "source": [
    "def task_create_file():\n",
    "    def create_file():\n",
    "        with open('create.txt', 'w') as f:\n",
    "            f.write('Created')\n",
    "    return {\n",
    "        'actions': [create_file]\n",
    "    }"
   ]
  },
  {
   "cell_type": "markdown",
   "metadata": {},
   "source": [
    "Run it once..."
   ]
  },
  {
   "cell_type": "code",
   "execution_count": 3,
   "metadata": {},
   "outputs": [
    {
     "name": "stdout",
     "output_type": "stream",
     "text": [
      ".  create_file\n"
     ]
    }
   ],
   "source": [
    "%doit"
   ]
  },
  {
   "cell_type": "markdown",
   "metadata": {},
   "source": [
    "Run it again... No change"
   ]
  },
  {
   "cell_type": "code",
   "execution_count": 4,
   "metadata": {},
   "outputs": [
    {
     "name": "stdout",
     "output_type": "stream",
     "text": [
      ".  create_file\n"
     ]
    }
   ],
   "source": [
    "%doit"
   ]
  },
  {
   "cell_type": "markdown",
   "metadata": {},
   "source": [
    "Let's clearly specify that the target of this task is a file called 'create.txt'. Does that change anything?"
   ]
  },
  {
   "cell_type": "code",
   "execution_count": 5,
   "metadata": {},
   "outputs": [],
   "source": [
    "def task_create_file():\n",
    "    def create_file():\n",
    "        with open('create.txt', 'w') as f:\n",
    "            f.write('Created')\n",
    "    return {\n",
    "        'actions': [create_file],\n",
    "        'targets': ['create.txt']\n",
    "    }"
   ]
  },
  {
   "cell_type": "code",
   "execution_count": 6,
   "metadata": {},
   "outputs": [
    {
     "name": "stdout",
     "output_type": "stream",
     "text": [
      ".  create_file\n"
     ]
    }
   ],
   "source": [
    "%doit"
   ]
  },
  {
   "cell_type": "code",
   "execution_count": 7,
   "metadata": {},
   "outputs": [
    {
     "name": "stdout",
     "output_type": "stream",
     "text": [
      ".  create_file\n"
     ]
    }
   ],
   "source": [
    "%doit"
   ]
  },
  {
   "cell_type": "markdown",
   "metadata": {},
   "source": [
    "Nothing changed. Let's add another key to the dictionary called uptodate. "
   ]
  },
  {
   "cell_type": "code",
   "execution_count": 8,
   "metadata": {},
   "outputs": [],
   "source": [
    "def task_create_file():\n",
    "    def create_file():\n",
    "        with open('create.txt', 'w') as f:\n",
    "            f.write('Created')\n",
    "    return {\n",
    "        'actions': [create_file],\n",
    "        'targets': ['create.txt'],\n",
    "        'uptodate': [True]\n",
    "    }"
   ]
  },
  {
   "cell_type": "code",
   "execution_count": 9,
   "metadata": {},
   "outputs": [
    {
     "name": "stdout",
     "output_type": "stream",
     "text": [
      "-- create_file\n"
     ]
    }
   ],
   "source": [
    "%doit"
   ]
  },
  {
   "cell_type": "markdown",
   "metadata": {},
   "source": [
    "Now we see instead of `-- create_file` instead of `. create_file. What happens if we delete it?"
   ]
  },
  {
   "cell_type": "code",
   "execution_count": 10,
   "metadata": {},
   "outputs": [],
   "source": [
    "import os\n",
    "os.remove('create.txt')"
   ]
  },
  {
   "cell_type": "code",
   "execution_count": 11,
   "metadata": {},
   "outputs": [
    {
     "name": "stdout",
     "output_type": "stream",
     "text": [
      ".  create_file\n"
     ]
    }
   ],
   "source": [
    "%doit"
   ]
  },
  {
   "cell_type": "code",
   "execution_count": 12,
   "metadata": {},
   "outputs": [
    {
     "name": "stdout",
     "output_type": "stream",
     "text": [
      "-- create_file\n"
     ]
    }
   ],
   "source": [
    "%doit"
   ]
  },
  {
   "cell_type": "markdown",
   "metadata": {},
   "source": [
    "So if the file is removed, pydoit will run the task again. If it exists, it does not.\n",
    "Let's modify the file. Will that change anything?"
   ]
  },
  {
   "cell_type": "code",
   "execution_count": 13,
   "metadata": {},
   "outputs": [],
   "source": [
    "with open('create.txt', 'a') as f:\n",
    "    f.write('\\nadd another line')"
   ]
  },
  {
   "cell_type": "code",
   "execution_count": 14,
   "metadata": {},
   "outputs": [
    {
     "name": "stdout",
     "output_type": "stream",
     "text": [
      "-- create_file\n"
     ]
    }
   ],
   "source": [
    "%doit"
   ]
  },
  {
   "cell_type": "markdown",
   "metadata": {},
   "source": [
    "So doit only checks if file exists. Not if it is modified. "
   ]
  }
 ],
 "metadata": {
  "kernelspec": {
   "display_name": "jpydoit",
   "language": "python",
   "name": "python3"
  },
  "language_info": {
   "codemirror_mode": {
    "name": "ipython",
    "version": 3
   },
   "file_extension": ".py",
   "mimetype": "text/x-python",
   "name": "python",
   "nbconvert_exporter": "python",
   "pygments_lexer": "ipython3",
   "version": "3.12.4"
  }
 },
 "nbformat": 4,
 "nbformat_minor": 2
}
