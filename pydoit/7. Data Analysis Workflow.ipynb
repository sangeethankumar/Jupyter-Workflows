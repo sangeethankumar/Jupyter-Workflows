{
 "cells": [
  {
   "cell_type": "code",
   "execution_count": 1,
   "metadata": {},
   "outputs": [],
   "source": [
    "# %pip install python-dotenv nbformat pandas"
   ]
  },
  {
   "cell_type": "code",
   "execution_count": 2,
   "metadata": {},
   "outputs": [],
   "source": [
    "from doit.tools import load_ipython_extension\n",
    "load_ipython_extension()"
   ]
  },
  {
   "cell_type": "code",
   "execution_count": 3,
   "metadata": {},
   "outputs": [],
   "source": [
    "import pandas as pd\n",
    "from dotenv import load_dotenv\n",
    "from doit.tools import run_once"
   ]
  },
  {
   "cell_type": "code",
   "execution_count": 4,
   "metadata": {},
   "outputs": [],
   "source": [
    "# Download data.csv from url\n",
    "# Process data.csv to get new cleaned data\n",
    "# Make a report.ipynb with code and figures "
   ]
  },
  {
   "cell_type": "code",
   "execution_count": 5,
   "metadata": {},
   "outputs": [],
   "source": [
    "import os\n",
    "import urllib.request\n",
    "\n",
    "def task_download():\n",
    "    def download():\n",
    "        load_dotenv('.env')\n",
    "        url = os.environ['data_url'] \n",
    "        df = pd.read_csv(url)\n",
    "        df.to_csv('data.csv', index=False)\n",
    "\n",
    "    return {\n",
    "        'actions': [download],\n",
    "        'targets': ['data.csv'],\n",
    "        'uptodate': [True],\n",
    "    }"
   ]
  },
  {
   "cell_type": "code",
   "execution_count": 6,
   "metadata": {},
   "outputs": [],
   "source": [
    "def task_process():\n",
    "    def process():\n",
    "        df = pd.read_csv('data.csv')\n",
    "        df = df.dropna(axis=0)\n",
    "        df.to_csv('data_process.csv')\n",
    "\n",
    "    return {\n",
    "        'actions': [process],\n",
    "        'targets': ['data_process.csv'],\n",
    "        'file_dep': ['data.csv'],\n",
    "        'uptodate': [lambda: os.path.exists('data_process.csv') and os.path.getmtime('data_process.csv') > os.path.getmtime('data.csv')]\n",
    "    }"
   ]
  },
  {
   "cell_type": "code",
   "execution_count": 7,
   "metadata": {},
   "outputs": [],
   "source": [
    "import nbformat as nbf\n",
    "\n",
    "def gen_report():\n",
    "    nb = nbf.v4.new_notebook()\n",
    "    nb.cells.append(nbf.v4.new_code_cell(\"\"\"%pip install dtale\"\"\"\n",
    "    ))\n",
    "    nb.cells.append(nbf.v4.new_code_cell(\"\"\"import pandas as pd\\nimport dtale\"\"\"\n",
    "    ))\n",
    "    nb.cells.append(nbf.v4.new_markdown_cell(\"\"\"## EDA\"\"\"))\n",
    "    nb.cells.append(nbf.v4.new_code_cell(\"\"\"df = pd.read_csv('data_process.csv')\"\"\"))\n",
    "    nb.cells.append(nbf.v4.new_code_cell(\"\"\"dtale.show(df)\"\"\"\n",
    "    ))\n",
    "\n",
    "    with open('report.ipynb', 'w') as f:\n",
    "        nbf.write(nb, f)"
   ]
  },
  {
   "cell_type": "code",
   "execution_count": 8,
   "metadata": {},
   "outputs": [],
   "source": [
    "def task_generate_report():\n",
    "    return {\n",
    "        'actions': [gen_report],\n",
    "        'file_dep': ['data_process.csv'],\n",
    "        'targets': ['report.ipynb'],\n",
    "        'uptodate': [lambda: os.path.exists('report.ipynb') and os.path.getmtime('report.ipynb') > os.path.getmtime('data_process.csv')]\n",
    "    }"
   ]
  },
  {
   "cell_type": "code",
   "execution_count": 9,
   "metadata": {},
   "outputs": [
    {
     "name": "stdout",
     "output_type": "stream",
     "text": [
      ".  download\n",
      ".  process\n",
      ".  generate_report\n"
     ]
    }
   ],
   "source": [
    "%doit "
   ]
  },
  {
   "cell_type": "code",
   "execution_count": 10,
   "metadata": {},
   "outputs": [
    {
     "name": "stdout",
     "output_type": "stream",
     "text": [
      "-- download\n",
      "-- process\n",
      "-- generate_report\n"
     ]
    }
   ],
   "source": [
    "%doit"
   ]
  }
 ],
 "metadata": {
  "kernelspec": {
   "display_name": "jpydoit",
   "language": "python",
   "name": "python3"
  },
  "language_info": {
   "codemirror_mode": {
    "name": "ipython",
    "version": 3
   },
   "file_extension": ".py",
   "mimetype": "text/x-python",
   "name": "python",
   "nbconvert_exporter": "python",
   "pygments_lexer": "ipython3",
   "version": "3.12.4"
  }
 },
 "nbformat": 4,
 "nbformat_minor": 2
}
