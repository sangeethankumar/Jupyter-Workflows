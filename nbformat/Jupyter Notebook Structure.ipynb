{
 "cells": [
  {
   "cell_type": "code",
   "execution_count": 1,
   "metadata": {},
   "outputs": [],
   "source": [
    "import nbformat"
   ]
  },
  {
   "cell_type": "markdown",
   "metadata": {},
   "source": [
    "Let's see what read method of nbformat needs"
   ]
  },
  {
   "cell_type": "code",
   "execution_count": 2,
   "metadata": {},
   "outputs": [
    {
     "name": "stdout",
     "output_type": "stream",
     "text": [
      "\u001b[0;31mSignature:\u001b[0m \u001b[0mnbformat\u001b[0m\u001b[0;34m.\u001b[0m\u001b[0mread\u001b[0m\u001b[0;34m(\u001b[0m\u001b[0mfp\u001b[0m\u001b[0;34m,\u001b[0m \u001b[0mas_version\u001b[0m\u001b[0;34m,\u001b[0m \u001b[0mcapture_validation_error\u001b[0m\u001b[0;34m=\u001b[0m\u001b[0;32mNone\u001b[0m\u001b[0;34m,\u001b[0m \u001b[0;34m**\u001b[0m\u001b[0mkwargs\u001b[0m\u001b[0;34m)\u001b[0m\u001b[0;34m\u001b[0m\u001b[0;34m\u001b[0m\u001b[0m\n",
      "\u001b[0;31mDocstring:\u001b[0m\n",
      "Read a notebook from a file as a NotebookNode of the given version.\n",
      "\n",
      "The string can contain a notebook of any version.\n",
      "The notebook will be returned `as_version`, converting, if necessary.\n",
      "\n",
      "Notebook format errors will be logged.\n",
      "\n",
      "Parameters\n",
      "----------\n",
      "fp : file or str\n",
      "    A file-like object with a read method that returns unicode (use\n",
      "    ``io.open()`` in Python 2), or a path to a file.\n",
      "as_version : int\n",
      "    The version of the notebook format to return.\n",
      "    The notebook will be converted, if necessary.\n",
      "    Pass nbformat.NO_CONVERT to prevent conversion.\n",
      "capture_validation_error : dict, optional\n",
      "    If provided, a key of \"ValidationError\" with a\n",
      "    value of the ValidationError instance will be added\n",
      "    to the dictionary.\n",
      "\n",
      "Returns\n",
      "-------\n",
      "nb : NotebookNode\n",
      "    The notebook that was read.\n",
      "\u001b[0;31mFile:\u001b[0m      ~/miniconda/envs/jnbformat/lib/python3.12/site-packages/nbformat/__init__.py\n",
      "\u001b[0;31mType:\u001b[0m      function"
     ]
    }
   ],
   "source": [
    "nbformat.read?"
   ]
  },
  {
   "cell_type": "markdown",
   "metadata": {},
   "source": [
    "So it needs a file-like object and as_version"
   ]
  },
  {
   "cell_type": "code",
   "execution_count": 4,
   "metadata": {},
   "outputs": [],
   "source": [
    "with open('notebook_to_read.ipynb', 'r') as f:\n",
    "    notebook = nbformat.read(f, as_version=4)"
   ]
  },
  {
   "cell_type": "code",
   "execution_count": 5,
   "metadata": {},
   "outputs": [
    {
     "data": {
      "text/plain": [
       "nbformat.notebooknode.NotebookNode"
      ]
     },
     "execution_count": 5,
     "metadata": {},
     "output_type": "execute_result"
    }
   ],
   "source": [
    "# What is the type of notebook?\n",
    "type(notebook)"
   ]
  },
  {
   "cell_type": "code",
   "execution_count": 6,
   "metadata": {},
   "outputs": [
    {
     "data": {
      "text/plain": [
       "{'cells': [{'cell_type': 'markdown',\n",
       "   'metadata': {},\n",
       "   'source': '# This is a markdown cell'},\n",
       "  {'cell_type': 'markdown',\n",
       "   'metadata': {},\n",
       "   'source': 'This is a multi-line markdown cell.\\n\\nI want to see what it looks like when I read it\\n'},\n",
       "  {'cell_type': 'code',\n",
       "   'execution_count': 1,\n",
       "   'metadata': {},\n",
       "   'outputs': [],\n",
       "   'source': 'import numpy as np \\nimport matplotlib.pyplot as plt\\nfrom PIL import Image'},\n",
       "  {'cell_type': 'code',\n",
       "   'execution_count': 2,\n",
       "   'metadata': {},\n",
       "   'outputs': [],\n",
       "   'source': '# This is a commented out cell'},\n",
       "  {'cell_type': 'code',\n",
       "   'execution_count': 3,\n",
       "   'metadata': {},\n",
       "   'outputs': [],\n",
       "   'source': 'a = 10'},\n",
       "  {'cell_type': 'code',\n",
       "   'execution_count': 4,\n",
       "   'metadata': {},\n",
       "   'outputs': [],\n",
       "   'source': 'b = 20\\nc = 100'},\n",
       "  {'cell_type': 'code',\n",
       "   'execution_count': 5,\n",
       "   'metadata': {},\n",
       "   'outputs': [{'name': 'stdout',\n",
       "     'output_type': 'stream',\n",
       "     'text': 'I want to see print statements stored in jupyter notebook\\n'}],\n",
       "   'source': 'print(\"I want to see print statements stored in jupyter notebook\")'},\n",
       "  {'cell_type': 'code',\n",
       "   'execution_count': 6,\n",
       "   'metadata': {},\n",
       "   'outputs': [{'data': {'text/plain': '20'},\n",
       "     'execution_count': 6,\n",
       "     'metadata': {},\n",
       "     'output_type': 'execute_result'}],\n",
       "   'source': 'b'},\n",
       "  {'cell_type': 'code',\n",
       "   'execution_count': 7,\n",
       "   'metadata': {},\n",
       "   'outputs': [{'data': {'text/plain': '80'},\n",
       "     'execution_count': 7,\n",
       "     'metadata': {},\n",
       "     'output_type': 'execute_result'}],\n",
       "   'source': 'c - b'},\n",
       "  {'cell_type': 'markdown',\n",
       "   'metadata': {},\n",
       "   'source': 'Below is a formula in lates. How does that show up?'},\n",
       "  {'cell_type': 'markdown',\n",
       "   'metadata': {},\n",
       "   'source': '$$c = \\\\sqrt{a^2 + b^2}$$'},\n",
       "  {'cell_type': 'code',\n",
       "   'execution_count': 8,\n",
       "   'metadata': {},\n",
       "   'outputs': [],\n",
       "   'source': 't = np.linspace(0, 2, 100)\\ny = np.sin(t)'},\n",
       "  {'cell_type': 'code',\n",
       "   'execution_count': 9,\n",
       "   'metadata': {},\n",
       "   'outputs': [{'data': {'text/plain': '100'},\n",
       "     'execution_count': 9,\n",
       "     'metadata': {},\n",
       "     'output_type': 'execute_result'}],\n",
       "   'source': 'len(t)'},\n",
       "  {'cell_type': 'markdown',\n",
       "   'metadata': {},\n",
       "   'source': 'How will plots show up?'},\n",
       "  {'cell_type': 'code',\n",
       "   'execution_count': 10,\n",
       "   'metadata': {},\n",
       "   'outputs': [{'data': {'text/plain': '[<matplotlib.lines.Line2D at 0x7f37cb5b8b60>]'},\n",
       "     'execution_count': 10,\n",
       "     'metadata': {},\n",
       "     'output_type': 'execute_result'},\n",
       "    {'data': {'image/png': 'iVBORw0KGgoAAAANSUhEUgAAAiMAAAGdCAYAAADAAnMpAAAAP3RFWHRTb2Z0d2FyZQBNYXRwbG90bGliIHZlcnNpb24zLjkuMS5wb3N0MSwgaHR0cHM6Ly9tYXRwbG90bGliLm9yZy8kixA/AAAACXBIWXMAAA9hAAAPYQGoP6dpAABD10lEQVR4nO3deVxU5f4H8M/MwAw7iOw4irghIuCKWKYWSmam3cqlckvtZuYvo7pppWbe0sqtrt4sb2blrrmVZhlJK2qCqLiguIEgICIz7AMzz+8PcooEZRA4s3zer9e8lMNzZr6Ph2E+nvOc55EJIQSIiIiIJCKXugAiIiKybQwjREREJCmGESIiIpIUwwgRERFJimGEiIiIJMUwQkRERJJiGCEiIiJJMYwQERGRpOykLqA+DAYDsrOz4erqCplMJnU5REREVA9CCBQVFSEgIAByed3nPywijGRnZ0OtVktdBhERETVAZmYmWrVqVef3LSKMuLq6AqjujJubm8TVEBERUX1otVqo1Wrj53hdLCKM3Lg04+bmxjBCRERkYW43xIIDWImIiEhSDCNEREQkKYYRIiIikhTDCBEREUmKYYSIiIgkxTBCREREkmIYISIiIkkxjBAREZGkGEaIiIhIUiaHkZ9++gnDhg1DQEAAZDIZduzYcdt9EhIS0L17d6hUKrRv3x5r1qxpQKlERERkjUwOIyUlJYiIiMCKFSvq1f7ChQsYOnQoBg4ciJSUFMyYMQOTJ0/Gt99+a3KxREREZH1MXptmyJAhGDJkSL3br1y5Em3btsXixYsBAJ07d8Yvv/yCpUuXIjY21tSXJyIiIivT5AvlJSYmIiYmpsa22NhYzJgxo859KioqUFFRYfxaq9U2VXlERNSIdFUGFJbpoCmthKasEoWlldCWV6KsUo/ySgPKK/Uor9RDpzdACMBgEBAADELAXiGHnVwGe4UcSjs5VHZyuKjs4Kyyg4uDHVxVdvBwUqKlsxLujvaQy2+9+BpZjiYPIzk5OfD19a2xzdfXF1qtFmVlZXB0dLxpnwULFmDevHlNXRoREZmgSm/AFU05Mq+X4vL1MlwuKEVWYTnyisqRp61AXlE5rpdWNkstCrkMLZzs4eWigr+7A/w9HOHvVv1na08nBLV0grer6rarxZJ5aPIw0hCzZs1CXFyc8WutVgu1Wi1hRUREtkNXZcDZvCKk5RTh3NVipOcV49zVEly6VoJKvbjt/nIZ4OZoD/c/Hm4O9nBUKuBoX/1wsJfDXiGHXC6DTAbIZTLIAOgNAjq9AZV6A6r0AmWVepRUVKGovAoluuo/C0p0KCqvgt4gkF+sQ36xDqdzimqtw0mpQJuWzgj2ckYHXxeE+Lmio68r2rR0hoJnVcxKk4cRPz8/5Obm1tiWm5sLNze3Ws+KAIBKpYJKpWrq0oiIbF55pR4nsrVIySzEyWwtTl7RIj2vqM7QoVTIEdjCEa1aOELt6YRAD0f4ujnAx1UFHzcVfFwd4NHEl1B0VQZcL9XhWrEOeUXlyNGUI1tTjiuFZbiiKcelghJkXS9DqU6PU1e0OHVFCxz/c3+VnRwhfq4IC3RHeCt3dA30QAdfF9grONuFVJo8jERHR2PPnj01tu3btw/R0dFN/dJERPQ3eUXlOHi+AEmXruNIZiFOZmtqDR5uDnYI8XdDBx8XtPN2QXsfFwR7OyPA3VHysRpKOzl83Rzg6+aAULjV2kZXZUDm9VJculaCc3klSMstwpk/HuWVBhy9rMHRyxqsO1jdXmUnR4TaA72CWqBnG090b9MC7o72zdgr22ZyGCkuLkZ6errx6wsXLiAlJQWenp5o3bo1Zs2ahaysLHz++ecAgGeeeQbLly/Hv/71Lzz11FP44YcfsHnzZuzevbvxekFERLXKL67Ar+n5OHC+AAfPX8P5/JKb2ni5KBGp9kBYoDtC/d0QGuCGQA9Hix5vobSTo513dZC6N+TP7XqDQGZBKVKzNTh+WYNjlzVIzdKgqKIKhy4U4NCFAgDnIJMBIX5u6NuuJe5q3xK927aEi8osRzZYBZkQ4vYXAP8iISEBAwcOvGn7+PHjsWbNGkyYMAEXL15EQkJCjX1eeOEFnDx5Eq1atcLs2bMxYcKEer+mVquFu7s7NBoN3NxqT8FERFR9RiDp0nX8dPYqfjpzFSeya96NKJMBof5u6BVU/b//bmoPtGph2cHjThkMAufzi3H44nUcvnQdhy8W4OK10hpt7OQyRKg90L+jN+4N8UGXADeb/jerr/p+fpscRqTAMEJEVLfCUh0S0q5i36lc/Jh2FcUVVTW+H+rvhrvat0RU25boFeQJdydefridvKJyHDhfgN/S8/HbuWvIKKgZTnxcVRjYyQf3dvbBPR284ahUSFSpeWMYISKyYnlF5dibmoNvjufg0MUC6A1//ir3clGiXwdv3NPRC3e394a3K28IuFOZBaX4+Ww+9qfl4df0fJTq9MbvOdorMKCTN+4P88O9IT5wdWDYu4FhhIjIyuQXV+Cb1BzsPpaNgxcK8Nff3p18XRET6oNBoX4ID3SXfJCpNauo0uPQhQL8cDoP353IRVZhmfF7SoUc93T0xkORAYjp7AMnpW2PM2EYISKyAuWVenx3Mhfbki/j57P5Nc6ARKo9MLSrP2K7+KF1SycJq7RdQgicyNZib2oO9p7IQXpesfF7TkoFBoX6YnhkAO7p4A07G7x1mGGEiMhCCSFw+NJ1bD18GXuOX0HRX8aAhLdyx4Ph/hgS5g+1JwOIuTmbW4RdR7OxMyW7xjgTb1cV/tE9EI/1UKO9j4uEFTYvhhEiIgtTUKLDtuTL2Ph7Zo3/Ybdq4YiHuwViRLdAtPO2nQ8ySyaEQEpmIXamZOOro9m4VqIzfq9baw+M7qXGsIgAq7+MwzBCRGQBbpwF+TzxEr5NzYFObwBQPSjywXB/PNqjFXoFeXIMiAXTVRnww+k8bE3KxP60q8ZLba4Odnikeys8EdUaHXxdJa6yaTCMEBGZsTKdHjtTsvBZ4qXq6cr/0DXQHaN7q/FQRADvyrBCeUXl+DIpCxsOZdS4jBPV1hMT7wrCoFA/q1o3h2GEiMgM5WjK8elvF7DxUCY0ZdUr3DrYy/Fwt0A8EdUGYYHuEldIzcFgEPg5PR/rDlzC96dycWNccqsWjpjQNwgje6nhZgVhlGGEiMiMnLqixaqfz2NXSjaq/vjkUXs6YlyfIIzsqeZEZDbsiqYM6w5kYN3BS7heWh1QnZUKjOylxuR+wQj0qH1RWUvAMEJEJDEhBBLPX8OHCefw89l84/aotp6Y3C8Y94b4WNUpebozZTo9dqRkYfUvF3D2jwHMdnIZHooIwD/7t0MnP8sbV8IwQkQkESEE9qflYfkP6UjOKAQAKOQyPNDVH1P6tUV4Kw9J6yPzJoTAT2fz8dGP5/DbuWvG7feF+OC5e9ujW+sWElZnGoYRIqJmZjAI7D2Rg+U/pOPkH4NSlXZyjO6lxpR+wZwXhEx2NLMQH/10Dt+k5hhn3O3XwQszYjqgRxtPaYurB4YRIqJmIoTAdydzsXTfGZzOKQJQfc3/yT5tMKlfW/i4OkhcIVm681eL8WHCOWw7kmW8Nfju9l54PqYDegWZbyhhGCEiamI3Lscs2XcGqVnVZ0JcVHZ46q4gTLyrLVo4KyWukKxNxrVSrNifji+TLxsHQg/o5I2XBncyyzuxGEaIiJrQ7xcL8M43p3H40nUA1euQTLwrCFP6BcPDiSGEmlZmQSn+m5COzYcvG8+UDO3qjxcGdTSr6eYZRoiImsCZ3CK8u/c0vj+VB6B6jpDx0UH4Z/928OSZEGpmF/NLsPT7M9h1NBtCAHIZMLKnGnGDOsLHTfrLgwwjRESNKFdbjkXfpuHL5MswiOq7Y0b1UuP5+zrA1wx+6ZNtO52jxeLvzmDfyVwA1csJTLknGP+8JxjOKunWv2EYISJqBGU6PVb9fB4rfzyHUp0eADAkzA8vxXbionVkdg5fLMDbe04Zbyn3clEhblBHjOqllmROG4YRIqI7YDAI7DyahXf3puGKphwA0L21B15/MBTdLWieB7I9Qgh8k5qDd/aexqVr1evfdPZ3w9xhoegT3LJZa2EYISJqoOOXNZizKxVH/vjfZaCHI2YOCcGD4f6QyThjKlkGXZUBaw9cwrLvz0BbXgWgepDrrAdC0KpF88x5wzBCRGSighId3vs2DRt/z4AQ1XOFTLu3PZ66qy0c7BVSl0fUIAUlOizZl4b1BzNgEIDKTo5n+rfD1AHtmvznmmGEiKie9AaB9YcysOjbNONKug93C8TMISEcnEpW49QVLeZ9dQIHzhcAAFp7OmHeQ10wMMSnyV6TYYSIqB5SszR4bUcqjmYWAgBC/Fzx5vAw9G5rvrNaEjWUEAK7j1/B/K9PIldbAQAYHOqLOcNCm+TSDcMIEdEtFFdUYem+M/j01wswiOqZU18a3BFP9mkDO4Vc6vKImlRxRRXe//4MVv96EXqDgIO9HO+P7obYLn6N+jr1/fyW7uZjIiKJ7DuZizk7U413yQwN98ecB0N5SYZshovKDq8NDcUjPVphzo4TSM3WILyVdNPJM4wQkc3IL67AG7tO4OtjVwAAak9HzB8ehgGdmu6aOZE5C/Fzw6Z/9kF6XjH83R0lq4NhhIisnhAC249k4c2vT6KwtBIKuQyT+7XFjPs6wlHJu2TItslkMnTwdZW0BoYRIrJqVzRlmLXtOBLSrgKonvzp3UfC0VXCU9JEVBPDCBFZJSEEtiZdxptfn0RReRWUdnI8f18HPH1PMOw5QJXIrDCMEJHVydOWY9a244g/Xb2yboTaA4sfC0d7H2lPRRNR7RhGiMiq7Dqajdk7UqEpq4RSIceMQR3wdL9g3q5LZMYYRojIKmjKKjF7Ryp2Hc0GAIQFumHxY5Ho5MezIUTmjmGEiCxe4rlreHFzCrI15VDIZZg2sD2m39ueY0OILATDCBFZrIoqPZZ8dwYf/3weQgBtWjph6ahIdG/dQurSiMgEDCNEZJHOXy3G/208gtQsLQBgdC81Zj8YCmcVf60RWRq+a4nIogghsC05C7N3pqJUp4eHkz3eeSS80dfUIKLmwzBCRBajqLx6kOqOlOpBqn2CPbFsVDf4uXNNGSJLxjBCRBYhNUuDaeuTcelaKRRyGV6I6YCpA9pDIZdJXRoR3SGGESIya0IIrDuYgTe/Ogmd3oBAD0d8MCYSPdp4Sl0aETUShhEiMlvFFVWYte04vvpj7pCYzj5Y9FgEPJyUEldGRI2JYYSIzNLpHC2eXZuM8/klUMhleOX+TpjSLxgyGS/LEFkbhhEiMjs7jmRh5rZjKK80wN/dAcsf78bLMkRWjGGEiMyGrsqAt3afxGeJlwAA/Tp44f3R3eDpzMsyRNaMYYSIzEKOphzPrktCckYhAGD6ve0xI6Yj75YhsgEMI0Qkud8vFmDq2iTkF+vg6mCHpSMjERPqK3VZRNRMGEaISDI3btt9Y9cJVBkEQvxcsfLJHgjycpa6NCJqRgwjRCSJiio93th1AhsOZQIAhob7471Hw+Gk5K8lIlvDdz0RNbs8bTmeWVs9PkQmA/4VG4Jn+vO2XSJbxTBCRM0qNUuDyZ8dRo62HG4OdvhgTDcM6OQjdVlEJCGGESJqNnuOX0Hc5hSUVxrQztsZ/xvfC205PoTI5jGMEFGTE0Lgg/h0LP3+DACgf0dv/OfxbnBzsJe4MiIyBwwjRNSkyiv1eHHLUew+dgUAMOnutpg1JAR2CrnElRGRuWAYIaImc7WoAlM+P4yUzELYK2T494gwjOrVWuqyiMjMMIwQUZM4m1uEiWt+x+XrZXB3tMdHY3ugT3BLqcsiIjPEMEJEje7ns1fx7NpkFFVUIailE1ZP6IVgbxepyyIiM8UwQkSNauOhDLy2IxV6g0DvIE+sHNuDC90R0S01aATZihUrEBQUBAcHB0RFReHQoUO3bL9s2TJ06tQJjo6OUKvVeOGFF1BeXt6ggonIPAkhsPi7NMzcdhx6g8DD3QLxxeTeDCJEdFsmnxnZtGkT4uLisHLlSkRFRWHZsmWIjY1FWloafHxunrho/fr1mDlzJlavXo2+ffvizJkzmDBhAmQyGZYsWdIonSAiaemqDJi57Ri2JWcBAP7vvg54IaYDZ1QlonqRCSGEKTtERUWhV69eWL58OQDAYDBArVZj+vTpmDlz5k3tn3vuOZw6dQrx8fHGbS+++CIOHjyIX375pV6vqdVq4e7uDo1GAzc3N1PKJaImpi2vxLNrk/FLej4Uchnefph3zBBRtfp+fpt0mUan0yEpKQkxMTF/PoFcjpiYGCQmJta6T9++fZGUlGS8lHP+/Hns2bMHDzzwgCkvTURmKFdbjpErE/FLej6clAr8b3xPBhEiMplJl2ny8/Oh1+vh6+tbY7uvry9Onz5d6z6PP/448vPzcffdd0MIgaqqKjzzzDN49dVX63ydiooKVFRUGL/WarWmlElEzeDc1WKM++QQsgrL4O2qwqcTeiEs0F3qsojIAjX5FIgJCQl4++238d///hfJycnYtm0bdu/ejfnz59e5z4IFC+Du7m58qNXqpi6TiExwJOM6Hv3wN2QVlqGtlzO2Te3LIEJEDWbSmBGdTgcnJyds3boVI0aMMG4fP348CgsLsXPnzpv26devH/r06YP33nvPuG3t2rV4+umnUVxcDLn85jxU25kRtVrNMSNEZmB/Wh6eXZuMsko9Ilq5Y/WEXmjpopK6LCIyQ00yZkSpVKJHjx41BqMaDAbEx8cjOjq61n1KS0tvChwKhQJA9a2AtVGpVHBzc6vxICLpbUu+jMmfHUZZpR73dPTG+il9GESI6I6ZfGtvXFwcxo8fj549e6J3795YtmwZSkpKMHHiRADAuHHjEBgYiAULFgAAhg0bhiVLlqBbt26IiopCeno6Zs+ejWHDhhlDCRGZv9W/XMCbX58EADzcLRDvPhoOey52R0SNwOQwMmrUKFy9ehVz5sxBTk4OIiMjsXfvXuOg1oyMjBpnQl5//XXIZDK8/vrryMrKgre3N4YNG4a33nqr8XpBRE1GCIGl+87ggx/SAVSvuvvaA50hl3MOESJqHCbPMyIFzjNCJA2DQeCNr07g88RLAICXBnfEtIHtOZkZEdVLfT+/uTYNEdWqUm/AS1uOYmdKNmQy4M3hYRjbp43UZRGRFWIYIaKblFfq8dz6ZHx/Kg92chkWj4zA8MhAqcsiIivFMEJENZRUVOHpLw7j1/RrUNnJsfLJHhgYcvO6U0REjYVhhIiMNGWVeGrN70i6dB3OSgX+N74Xotu1lLosIrJyDCNEBAAoKNFh7CcHcSJbCzcHO3z2VG90a91C6rKIyAYwjBAR8orK8eT/DuJMbjFaOivxxaQohAbwzjUiah4MI0Q2LkdTjsdXHcD5/BL4uTlg7eQotPdxkbosIrIhDCNENiyrsAyPrzqAS9dKEejhiPVTotCmpbPUZRGRjWEYIbJRmQWlGLPqAC5fL0NrTyesnxKFVi2cpC6LiGwQwwiRDbqYX4Ixqw7giqYcwV7OWDclCv7ujlKXRUQ2imGEyMZcyC/B6I8TkautQAcfF6ybHAUfNwepyyIiG8YwQmRDzl8txphVB5CrrUBHXxesn9IHXi4qqcsiIhvH9b+JbMRfg0gnX1cGESIyGzwzQmQDzl8txuiPDyCv6EYQiUJLBhEiMhM8M0Jk5arHiFQHkRA/BhEiMj8MI0RW7NK1Eoz5SxBZN5lBhIjMD8MIkZXKLCjFmI8PIEdbjg4+LljLIEJEZophhMgKZRWWYcyqA8jWlCPYu3oeEQ5WJSJzxTBCZGWuaMow5uPqmVXbejljw5Q+8HHlPCJEZL4YRoisSF5ROZ5YdRAZBaXGKd59OaEZEZk5hhEiK1FQosPY/x3C+fwSBHo4YsPTfTjFOxFZBIYRIiugKavEuNUHkZZbBB9XFdZPiUKgB4MIEVkGhhEiC1dSUYWJnx5CapYWLZ2VWD8lCm1aOktdFhFRvTGMEFmw8ko9Jn32O5IzCuHuaI+1k6PQ3sdV6rKIiEzCMEJkoXRVBjy7LhkHzhfAVWWHLyb1Rmd/N6nLIiIyGcMIkQXSGwTiNqfgh9N5cLCX45MJvRDeykPqsoiIGoRhhMjCCCHw2vbj+PrYFdgrZPhobE/0buspdVlERA3GMEJkQYQQeGv3KWz8PRNyGfDB6G7o39Fb6rKIiO4IwwiRBfnPD+n43y8XAADvPBKOIV39Ja6IiOjOMYwQWYgvEi9iyb4zAIC5w0LxWE+1xBURETUOhhEiC7AzJQtzdp0AADx/XwdMvKutxBURETUehhEiM7c/LQ8vbj4KIYDx0W0wI6aD1CURETUqhhEiM3b4YgGmrk1ClUHgoYgAzB3WBTKZTOqyiIgaFcMIkZk6naPFU2t+R3mlAQM6eWPxyAjI5QwiRGR9GEaIzNDl66UYv/oQtOVV6NGmBT58ogfsFXy7EpF14m83IjNTUKLDuNWHkKutQEdfF3wyvicclQqpyyIiajIMI0RmpFRXhYlrfsf5qyUIcHfAZ0/1hoeTUuqyiIiaFMMIkZmo1BswdW0yjmYWwsPJHp9PioK/u6PUZRERNTmGESIzIITAK1uP4cczV+For8CnE3qhvY+L1GURETULhhEiM/Dut2nYdiQLCrkM/32iO7q1biF1SUREzYZhhEhin/12ER8mnAMALPxHVwwM8ZG4IiKi5sUwQiShvalX8MZX1dO8vzS4I9ebISKbxDBCJJHfLxbg/zamQAjgiajWmDawvdQlERFJgmGESALpeUWY/Nlh6KoMGBTqizeHh3GadyKyWQwjRM0sr6gc41f/Dk1ZJbq19sAHo7tBwWneiciGMYwQNaOSiio8teZ3ZBWWIailEz4Z34uzqxKRzWMYIWomVXoDpm84gtQsLTydlVgzsTc8nTm7KhERwwhRMxBCYO6uE/jhdB5UdnL8b3xPBHk5S10WEZFZYBghagYrfzyPdQczIJMB74/uhu6c1IyIyIhhhKiJfX0sG+/sPQ0AmPNgKO4P85O4IiIi88IwQtSEki5dR9zmowCAiXcFYeJdbSWuiIjI/DCMEDWRS9dKMOXz6rlEYjr74vWhoVKXRERklhhGiJpAYakOE9f8joISHboGuuODMZGcS4SIqA4MI0SNTFdlwD+/SML5qyUIcHfAJ+N7wklpJ3VZRERmi2GEqBEJITBr23EcvFAAF5UdVk/sBR83B6nLIiIyawwjRI3ovwnn8GXyZSjkMqx4ojtC/NykLomIyOwxjBA1kj3Hr+C9b9MAAG8MC0X/jt4SV0REZBkaFEZWrFiBoKAgODg4ICoqCocOHbpl+8LCQkybNg3+/v5QqVTo2LEj9uzZ06CCiczR0cxCvLApBQAwoW8QxkYHSVoPEZElMXlU3aZNmxAXF4eVK1ciKioKy5YtQ2xsLNLS0uDj43NTe51Oh0GDBsHHxwdbt25FYGAgLl26BA8Pj8aon0hyWYVlmPz5YVRUGTCwkzdmP8hbeImITCETQghTdoiKikKvXr2wfPlyAIDBYIBarcb06dMxc+bMm9qvXLkS7733Hk6fPg17e/sGFanVauHu7g6NRgM3N16DJ/NRUlGFR1cm4tQVLUL8XLF1al+4qHjnDBERUP/Pb5Mu0+h0OiQlJSEmJubPJ5DLERMTg8TExFr32bVrF6KjozFt2jT4+voiLCwMb7/9NvR6fZ2vU1FRAa1WW+NBZG4MBoEZm1Jw6ooWXi4q/G98TwYRIqIGMCmM5OfnQ6/Xw9fXt8Z2X19f5OTk1LrP+fPnsXXrVuj1euzZswezZ8/G4sWL8e9//7vO11mwYAHc3d2ND7VabUqZRM3ive/SsO9kLpR2cnw8rgdatXCSuiQiIovU5HfTGAwG+Pj44OOPP0aPHj0watQovPbaa1i5cmWd+8yaNQsajcb4yMzMbOoyiUzyZdJlfJhwDgDw7iPhXIWXiOgOmHRO2cvLCwqFArm5uTW25+bmws+v9pVI/f39YW9vD4VCYdzWuXNn5OTkQKfTQalU3rSPSqWCSqUypTSiZpN0qQCzth0HAEwb2A4jugVKXBERkWUz6cyIUqlEjx49EB8fb9xmMBgQHx+P6OjoWve56667kJ6eDoPBYNx25swZ+Pv71xpEiMzZ5eul+OcXSdDpDYjt4osXB3WSuiQiIotn8mWauLg4rFq1Cp999hlOnTqFqVOnoqSkBBMnTgQAjBs3DrNmzTK2nzp1KgoKCvD888/jzJkz2L17N95++21Mmzat8XpB1AxKKqow+bPDyC/WIdTfDUtHRULOxe+IiO6YyUP/R40ahatXr2LOnDnIyclBZGQk9u7daxzUmpGRAbn8z4yjVqvx7bff4oUXXkB4eDgCAwPx/PPP45VXXmm8XhA1MYNB4MXNR3E6pwheLkqs4uJ3RESNxuR5RqTAeUZIakv3ncH78WehVMix4eko9GjjKXVJRERmr0nmGSGyRbuPXcH78WcBAP9+OIxBhIiokTGMEN1CapYGL25JAQBMurstRvbknDdERI2NYYSoDvnFFXj688MorzTgno7emDUkROqSiIisEsMIUS10VQY8uzYZ2ZpyBHs54z9jusFOwbcLEVFT4G9XolrM++oEDl0sgKvKDh+P6wl3x4Yt8khERLfHMEL0N+sOXsK6gxmQyYD3x0SivY+L1CUREVk1hhGivzh0oQBzd54AALw0uBPuDfG9zR5ERHSnGEaI/pBVWIapa5NQZRB4MNwfzw5oJ3VJREQ2gWGECEB5pR7PfJGEayU6dPZ3w7uPhkMm41TvRETNgWGEbJ4QAq9uP47jWRq0cLLHx2N7cKp3IqJmxDBCNm/NbxexLTkLCrkMKx7vDrWnk9QlERHZFIYRsmmJ567h37tPAQBmDQlB3/ZeEldERGR7GEbIZmUVlmHa+mToDQIjIgMw6e62UpdERGSTGEbIJt0YsFpQokOovxsW/IMDVomIpMIwQjZHCIHXtqcaB6x+NLYHHJUKqcsiIrJZDCNkc9YezMCXyZchlwHLOWCViEhyDCNkU5IuFeDNr6pnWH3l/hDcxQGrRESSYxghm5GnLcfUtcmo1As80NUPT98TLHVJREQEhhGyEboqA55dl4y8ogp08HHBu49GcMAqEZGZYBghm/D2nlM4fOk6XFV2+GhsD7ioOMMqEZG5YBghq7fjSBbW/HYRALBkVCSCvV2kLYiIiGpgGCGrdjpHi5nbjgEAnhvYHoNCfSWuiIiI/o5hhKyWtrwSz3yRhPJKA/p18MILgzpKXRIREdWCYYSsksEg8OLmo7h4rRSBHo54f3Q3KOQcsEpEZI4YRsgqffjjOew7mQulQo7/PtEdns5KqUsiIqI6MIyQ1fk1PR+Lv0sDAMwb3gURag9pCyIioltiGCGrckVThukbjsAggMd6tMLoXmqpSyIiottgGCGroasyYNq6ZONKvPNHhHFiMyIiC8AwQlZjwTenkJxRCFcHO3z4ZHc42HMlXiIiS8AwQlbh62PZ+PTXiwCAJSMj0aals7QFERFRvTGMkMVLzyvGK1urJzZ7pn87TmxGRGRhGEbIopXqqvDsuiSU6PToE+yJlwZzYjMiIkvDMEIWSwiB17en4kxuMXxcVfjPmO6wU/BHmojI0vA3N1msjb9nYtuRLCjkMvxnTDd4u6qkLomIiBqAYYQsUmqWBnN3nQAAvBzbCVHBLSWuiIiIGophhCyOpqwSz65Lhq7KgJjOPni6X7DUJRER0R1gGCGLIoTAy1uOIqOgFK1aOGLxY5GQcwE8IiKLxjBCFuWTXy7gu78sgOfuZC91SUREdIcYRshiJGdcx8JvTgMAZj/YGeGtPKQtiIiIGgXDCFmE6yU6PLcuGVUGgQfD/fFknzZSl0RERI2EYYTMnsEgELc5BdmacrT1csaCf3TlAnhERFaEYYTM3kc/ncf+tKtQ2cmx4vHucHXgOBEiImvCMEJm7feLBVj0XRoA4I2HuiA0wE3iioiIqLExjJDZulZcgenrj0BvEBgRGYDRvdRSl0RERE2AYYTMUvU4kaPI0Zajnbcz3nqY40SIiKwVwwiZpY9+Oo8fz/wxTuSJ7nBW2UldEhERNRGGETI7h/8yTmTeQ10Q4sdxIkRE1oxhhMzK9RIdpm+oHicyPDIAozhOhIjI6jGMkNkwGARe3HIUVzTlCPbiOBEiIlvBMEJm45NfLuCH03lQ2smx/PHucOE4ESIim8AwQmbhSMZ1vLO3et2ZOQ+Gcj4RIiIbwjBCktOUVWL6hiOoMggM7eqPJ6JaS10SERE1I4YRkpQQArO2HcPl62VQezpiwSMcJ0JEZGsYRkhSaw9mYM/xHNgrZFg+pjvcuO4MEZHNYRghyZzM1mL+1ycBAK/cH4IItYe0BRERkSQYRkgSJRVVeG5DMnRVBtwX4oNJd7eVuiQiIpJIg8LIihUrEBQUBAcHB0RFReHQoUP12m/jxo2QyWQYMWJEQ16WrMjcXSdw/moJ/Nwc8N5jERwnQkRkw0wOI5s2bUJcXBzmzp2L5ORkREREIDY2Fnl5ebfc7+LFi3jppZfQr1+/BhdL1mHHkSxsTboMuQx4f3QkPJ2VUpdEREQSMjmMLFmyBFOmTMHEiRMRGhqKlStXwsnJCatXr65zH71ejyeeeALz5s1DcHDwHRVMlu1ifgle234cAPB/93VAVHBLiSsiIiKpmRRGdDodkpKSEBMT8+cTyOWIiYlBYmJinfu9+eab8PHxwaRJk+r1OhUVFdBqtTUeZPl0VQZM33AEJTo9otp6Yvq9HaQuiYiIzIBJYSQ/Px96vR6+vr41tvv6+iInJ6fWfX755Rd88sknWLVqVb1fZ8GCBXB3dzc+1GoulmYN3t17GsezNPBwssey0ZFQyDlOhIiImvhumqKiIowdOxarVq2Cl5dXvfebNWsWNBqN8ZGZmdmEVVJz2H86D//75QIAYNGjEfB3d5S4IiIiMhcmrUTm5eUFhUKB3NzcGttzc3Ph5+d3U/tz587h4sWLGDZsmHGbwWCofmE7O6SlpaFdu3Y37adSqaBSqUwpjcxYrrYcL245CgCY0DcIMaG+t9mDiIhsiUlnRpRKJXr06IH4+HjjNoPBgPj4eERHR9/UPiQkBMePH0dKSorx8dBDD2HgwIFISUnh5RcboDcIvLApBQUlOoT6u2HWAyFSl0RERGbG5DXa4+LiMH78ePTs2RO9e/fGsmXLUFJSgokTJwIAxo0bh8DAQCxYsAAODg4ICwursb+HhwcA3LSdrNNHP53Db+euwdFegQ/GdIPKTiF1SUREZGZMDiOjRo3C1atXMWfOHOTk5CAyMhJ79+41DmrNyMiAXM6JXQlIzriOxd+dAQDMe6gL2vu4SFwRERGZI5kQQkhdxO1otVq4u7tDo9HAzc1N6nKoHrTllRj6wc/ILCjDsIgAfDA6krOsEhHZmPp+fvMUBjU6IQRe256KzIIytGrhiLceDmMQISKiOjGMUKPbmnQZXx3NhkIuwwdjusHNwV7qkoiIyIwxjFCjupBfgrm7TgAA4gZ1RPfWLSSuiIiIzB3DCDUaXZUBz288glKdHn2CPfFM/5vnkCEiIvo7hhFqNIv3peHY5erp3peO4nTvRERUPwwj1Ch+OZuPj348DwBY+I9wTvdORET1xjBCd+xacQXiNqcAAB6Pao37w25eGoCIiKguDCN0R4QQeOXL48grqkB7HxfMHhoqdUlERGRhGEbojqw9mIHvT+VCqZDjg9Hd4KjkdO9ERGQahhFqsLO5Rfj31ycBAK8MCUFoAGfHJSIi0zGMUIOUV+rxfxtTUFFlwD0dvTGxb5DUJRERkYViGKEGeXdvGk5d0aKlsxKLHguHnLfxEhFRAzGMkMkS0vKw+tcLAID3HguHj6uDxBUREZElYxghk+QXV+ClLccAAOOj2+DeEF+JKyIiIkvHMEL1JoTAK1uPIb+4Ah19XTDrgc5Sl0RERFaAYYTqbe3BDMSfzoPSTo4PxnSDgz1v4yUiojvHMEL1kp5XhLd2V9/GO/P+EIT48TZeIiJqHAwjdFsVVXr834YUlFca0K+DFybwNl4iImpEDCN0W0u+O4OTV7Ro4WSPxY9F8DZeIiJqVAwjdEu/pufjo5+qV+N955Fw+LjxNl4iImpcDCNUp8JSHV7cfBRA9Wq8g7twNV4iImp8DCNUKyEEXtueihxtOYK9nPH6UN7GS0RETYNhhGr1ZXIWdh+/Aju5DMtGR8JJaSd1SUREZKUYRugmGddKMXdnKgDghUEdEd7KQ9qCiIjIqjGMUA1VegNe2JyCEp0evYJa4Jn+7aQuiYiIrBzDCNXwYcI5JF26DleVHZaMjISCt/ESEVETYxgho5TMQiyLPwsAeHNEF6g9nSSuiIiIbAHDCAEASnVVeGFTCvQGgQfD/TEiMlDqkoiIyEYwjBAA4N+7T+FCfgn83R3w1oiukMl4eYaIiJoHwwgh/lQu1h/MAAAsfiwC7k72EldERES2hGHExuUXV+CVL48BACbf3RZ923tJXBEREdkahhEbJoTAzC+PIb9YhxA/V7wU20nqkoiIyAYxjNiwjb9n4vtTeVAq5Fg6KhIO9gqpSyIiIhvEMGKjLuaXYP7XJwEAL8d2Qmd/N4krIiIiW8UwYoNuzLJaqtMjOrglJt3dVuqSiIjIhjGM2KD/JpzDkYxCuDrYYdHICMg5yyoREUmIYcTGHM0sxPt/zLI6f3gYAj0cJa6IiIhsHcOIDSnT6fHC5upZVoeG+2N4ZIDUJRERETGM2JIF35zC+asl8HVT4a0RYZxllYiIzALDiI1ISMvD54mXAACLHouAh5NS4oqIiIiqMYzYgOslOvxra/UsqxP6BqFfB2+JKyIiIvoTw4iVE0Lg9R2pyCuqQDtvZ8wcEiJ1SURERDUwjFi5nSnZ2H38CuzkMs6ySkREZolhxIplF5Zh9s5UAMD/3dcB4a08pC2IiIioFgwjVspgEHhpy1EUlVchUu2BZwe0k7okIiKiWjGMWKk1v13Eb+euwcFejiUjI2Cn4KEmIiLzxE8oK5SeV4R39p4GALw2NBTB3i4SV0RERFQ3hhErU6k34IVNR1FRZcA9Hb3xZFRrqUsiIiK6JYYRK/OfH9JxPEsDd0d7vPdoOGdZJSIis8cwYkVSMguxYn86AODfI8Lg6+YgcUVERES3xzBiJcp0esRtql4E76GIAAyL4CJ4RERkGRhGrMTCb07hfH71Injzh4dJXQ4REVG9MYxYgZ/PXsVnfyyC996jEXB3spe4IiIiovpjGLFwmtJKvLylehG8cdFtcE9HLoJHRESWhWHEwr3x1QnkaMvR1ouL4BERkWViGLFge45fwfYjWZDLgMUjI+CktJO6JCIiIpM1KIysWLECQUFBcHBwQFRUFA4dOlRn21WrVqFfv35o0aIFWrRogZiYmFu2p/rJKyrHa9uPAwCeHdAe3Vu3kLgiIiKihjE5jGzatAlxcXGYO3cukpOTERERgdjYWOTl5dXaPiEhAWPGjMH+/fuRmJgItVqNwYMHIysr646Lt1VCCLy67Tiul1Yi1N8N/3dfB6lLIiIiajCZEEKYskNUVBR69eqF5cuXAwAMBgPUajWmT5+OmTNn3nZ/vV6PFi1aYPny5Rg3bly9XlOr1cLd3R0ajQZubm6mlGuVNv+eiX99eQxKhRy7pt+FED/+mxARkfmp7+e3SWdGdDodkpKSEBMT8+cTyOWIiYlBYmJivZ6jtLQUlZWV8PT0rLNNRUUFtFptjQdVyywoxbyvTgAAXhzckUGEiIgsnklhJD8/H3q9Hr6+vjW2+/r6Iicnp17P8corryAgIKBGoPm7BQsWwN3d3fhQq9WmlGm1DAaBl7YcRYlOj55tWmByv2CpSyIiIrpjzXo3zcKFC7Fx40Zs374dDg51r5sya9YsaDQa4yMzM7MZqzRfn/52EQcvFMBJqcDikRFQyLkIHhERWT6T7gX18vKCQqFAbm5uje25ubnw8/O75b6LFi3CwoUL8f333yM8PPyWbVUqFVQqlSmlWb30vGK8u/c0AODVBzqjTUtniSsiIiJqHCadGVEqlejRowfi4+ON2wwGA+Lj4xEdHV3nfu+++y7mz5+PvXv3omfPng2v1kZV6Q14cXMKKqoMuKejN56Iai11SURERI3G5Fmy4uLiMH78ePTs2RO9e/fGsmXLUFJSgokTJwIAxo0bh8DAQCxYsAAA8M4772DOnDlYv349goKCjGNLXFxc4OLi0ohdsV7/TTiHo5c1cHOww7uPhEMm4+UZIiKyHiaHkVGjRuHq1auYM2cOcnJyEBkZib179xoHtWZkZEAu//OEy4cffgidTodHH320xvPMnTsXb7zxxp1VbwNSszT4IP4sAODN4WHwc697rA0REZElMnmeESnY6jwjFVV6PPSfX5GWW4QhYX747xPdeVaEiIgsRpPMM0LNa+m+s0jLLYKXixL/HhHGIEJERFaJYcRMJV0qwMc/nQMAvPVwV7R04d1FRERknRhGzFCprgovbj4KgwD+0T0QsV1ufds0ERGRJWMYMUPvfHMaF6+Vwt/dAXOHdZG6HCIioibFMGJmfk3Px2eJlwAA7zwSDndHe4krIiIialoMI2ZEW16Jl7ccBQA82ac17unoLXFFRERETY9hxIzM/+oksjXlaO3phFlDOktdDhERUbNgGDET35/MxZaky5DJgMUjI+CsMnk+OiIiIovEMGIGrpfoMHPbcQDAlH7B6BXkKXFFREREzYdhxAzM2XUC+cUVaO/jgrhBHaUuh4iIqFkxjEjs62PZ+OpoNhRyGZaMjICDvULqkoiIiJoVw4iE8orKMXtHKgBg2oB2CG/lIW1BREREEmAYkYgQAq9uS8X10kqE+rvhuXs7SF0SERGRJBhGJLItOQvfn8qFvUKGxSMjoLTjoSAiItvET0AJXNGU4Y2vTgAAZsR0RGf/updVJiIisnYMI81MCIF/bT2GovIqRKg98M97gqUuiYiISFIMI81sw6FM/Hw2Hyo7ORY/FgE7BQ8BERHZNn4SNqPMglK8tfskAODl2E5o7+MicUVERETSYxhpJgaDwMtbj6JEp0fvIE88dVdbqUsiIiIyCwwjzeTzxIs4cL4AjvYKvPdYOORymdQlERERmQWGkWZw/moxFu49DQB49YEQtGnpLHFFRERE5oNhpInpDQIvbTmK8koD7mrfEk9EtZG6JCIiIrPCMNLE/vfzeSRnFMJFZYd3H43g5RkiIqK/YRhpQmdzi7B43xkAwOwHOyPQw1HiioiIiMwPw0gTqdIb8NKWo9BVGTCgkzdG9lRLXRIREZFZYhhpIit/PIejlzVwc7DDwn+EQybj5RkiIqLaMIw0gZPZWrwffxYA8MZDXeDn7iBxRUREROaLYaSR6aqqL89U6gViOvvi4W6BUpdERERk1hhGGtny/ek4eUULDyd7vP2PMF6eISIiug2GkUaUmqXBiv3pAID5w8Pg48rLM0RERLfDMNJIKqr0iNucAr1B4IGufngw3F/qkoiIiCwCw0gjef/7sziTW4yWzkrMH87LM0RERPXFMNIIUjILsfLHcwCAtx4OQ0sXlcQVERERWQ6GkTtUXqnHi5tTYBDAQxEBuD+Ml2eIiIhMwTByh5bsO4NzV0vg7arCm8O7SF0OERGRxWEYuQNJlwqw6ufzAIAFD3eFh5NS4oqIiIgsD8NIA5Xp9HhpyzEIATzSvRViQn2lLomIiMgiMYw00HvfpuFCfgl83VSYMyxU6nKIiIgsFsNIAxw8fw2f/nYBALDwkXC4O9pLXBEREZHlYhgxUamuCi9vrb48M6qnGgM7+UhdEhERkUVjGDHRwm9OI6OgFAHuDnj9wc5Sl0NERGTxGEZM8Ft6Pj5PvAQAePfRCLg68PIMERHRnWIYqafiiurLMwDwRFRr3N3BS+KKiIiIrAPDSD29vecUsgrL0KqFI2Y9wMszREREjYVhpB5+OnMV6w9mAADefTQcLio7iSsiIiKyHgwjt6Etr8TML6svz4yPboO+7Xh5hoiIqDExjNzGW1+fQramHK09nfDKkBCpyyEiIrI6DCO3sD8tD5sOZ0ImA957NBxOSl6eISIiamwMI3XQlFVi1pfHAQAT+7ZFVHBLiSsiIiKyTgwjdZj/9UnkaMvR1ssZL8d2krocIiIiq8UwUov4U7nYmnQZMhmw6LFwOCoVUpdERERktRhG/qawVIdZ26ovz0y+uy16tPGUuCIiIiLrxjDyN/O+Oom8ogoEezvjxcG8PENERNTUGEb+4rsTOdh+JAtyGbDosQg42PPyDBERUVNjGPnD9RIdXt2eCgCYck8wurduIXFFREREtoFh5A9zd51AfnEFOvi44IWYjlKXQ0REZDMaFEZWrFiBoKAgODg4ICoqCocOHbpl+y1btiAkJAQODg7o2rUr9uzZ06Bim8o3x69g19FsKOQyXp4hIiJqZiaHkU2bNiEuLg5z585FcnIyIiIiEBsbi7y8vFrb//bbbxgzZgwmTZqEI0eOYMSIERgxYgRSU1PvuPjGcK24Aq/vqK5lav92iFB7SFsQERGRjZEJIYQpO0RFRaFXr15Yvnw5AMBgMECtVmP69OmYOXPmTe1HjRqFkpISfP3118Ztffr0QWRkJFauXFmv19RqtXB3d4dGo4Gbm5sp5d7WtPXJ2H3sCjr5umLX9LugsuNZESIiosZQ389vk86M6HQ6JCUlISYm5s8nkMsRExODxMTEWvdJTEys0R4AYmNj62wPABUVFdBqtTUeTeHrY9nYfewKFHIZFo+MYBAhIiKSgElhJD8/H3q9Hr6+vjW2+/r6Iicnp9Z9cnJyTGoPAAsWLIC7u7vxoVarTSmzXsor9Xhj1wkAwLSB7REW6N7or0FERES3Z5Z308yaNQsajcb4yMzMbPTXcLBXYOWTPTAkzA/PDWzf6M9PRERE9WNnSmMvLy8oFArk5ubW2J6bmws/P79a9/Hz8zOpPQCoVCqoVCpTSmuQnkGe6BnE6d6JiIikZNKZEaVSiR49eiA+Pt64zWAwID4+HtHR0bXuEx0dXaM9AOzbt6/O9kRERGRbTDozAgBxcXEYP348evbsid69e2PZsmUoKSnBxIkTAQDjxo1DYGAgFixYAAB4/vnn0b9/fyxevBhDhw7Fxo0bcfjwYXz88ceN2xMiIiKySCaHkVGjRuHq1auYM2cOcnJyEBkZib179xoHqWZkZEAu//OES9++fbF+/Xq8/vrrePXVV9GhQwfs2LEDYWFhjdcLIiIislgmzzMihaacZ4SIiIiaRpPMM0JERETU2BhGiIiISFIMI0RERCQphhEiIiKSFMMIERERSYphhIiIiCTFMEJERESSYhghIiIiSTGMEBERkaRMng5eCjcmidVqtRJXQkRERPV143P7dpO9W0QYKSoqAgCo1WqJKyEiIiJTFRUVwd3dvc7vW8TaNAaDAdnZ2XB1dYVMJmu059VqtVCr1cjMzLTaNW+svY/sn+Wz9j6yf5bP2vvYlP0TQqCoqAgBAQE1FtH9O4s4MyKXy9GqVasme343Nzer/AH7K2vvI/tn+ay9j+yf5bP2PjZV/251RuQGDmAlIiIiSTGMEBERkaRsOoyoVCrMnTsXKpVK6lKajLX3kf2zfNbeR/bP8ll7H82hfxYxgJWIiIisl02fGSEiIiLpMYwQERGRpBhGiIiISFIMI0RERCQpqwsjK1asQFBQEBwcHBAVFYVDhw7dsv2WLVsQEhICBwcHdO3aFXv27KnxfSEE5syZA39/fzg6OiImJgZnz55tyi7ckin9W7VqFfr164cWLVqgRYsWiImJuan9hAkTIJPJajzuv//+pu7GLZnSxzVr1txUv4ODQ402lnwMBwwYcFP/ZDIZhg4damxjTsfwp59+wrBhwxAQEACZTIYdO3bcdp+EhAR0794dKpUK7du3x5o1a25qY+r7uqmY2r9t27Zh0KBB8Pb2hpubG6Kjo/Htt9/WaPPGG2/cdPxCQkKasBe3ZmofExISav0ZzcnJqdHOUo9hbe8vmUyGLl26GNuY0zFcsGABevXqBVdXV/j4+GDEiBFIS0u77X5SfxZaVRjZtGkT4uLiMHfuXCQnJyMiIgKxsbHIy8urtf1vv/2GMWPGYNKkSThy5AhGjBiBESNGIDU11djm3XffxQcffICVK1fi4MGDcHZ2RmxsLMrLy5urW0am9i8hIQFjxozB/v37kZiYCLVajcGDByMrK6tGu/vvvx9XrlwxPjZs2NAc3amVqX0EqmcN/Gv9ly5dqvF9Sz6G27Ztq9G31NRUKBQKPPbYYzXamcsxLCkpQUREBFasWFGv9hcuXMDQoUMxcOBApKSkYMaMGZg8eXKND+yG/Ew0FVP799NPP2HQoEHYs2cPkpKSMHDgQAwbNgxHjhyp0a5Lly41jt8vv/zSFOXXi6l9vCEtLa1GH3x8fIzfs+Rj+P7779foV2ZmJjw9PW96D5rLMfzxxx8xbdo0HDhwAPv27UNlZSUGDx6MkpKSOvcxi89CYUV69+4tpk2bZvxar9eLgIAAsWDBglrbjxw5UgwdOrTGtqioKPHPf/5TCCGEwWAQfn5+4r333jN+v7CwUKhUKrFhw4Ym6MGtmdq/v6uqqhKurq7is88+M24bP368GD58eGOX2mCm9vHTTz8V7u7udT6ftR3DpUuXCldXV1FcXGzcZm7H8AYAYvv27bds869//Ut06dKlxrZRo0aJ2NhY49d3+m/WVOrTv9qEhoaKefPmGb+eO3euiIiIaLzCGlF9+rh//34BQFy/fr3ONtZ0DLdv3y5kMpm4ePGicZs5H8O8vDwBQPz44491tjGHz0KrOTOi0+mQlJSEmJgY4za5XI6YmBgkJibWuk9iYmKN9gAQGxtrbH/hwgXk5OTUaOPu7o6oqKg6n7OpNKR/f1daWorKykp4enrW2J6QkAAfHx906tQJU6dOxbVr1xq19vpqaB+Li4vRpk0bqNVqDB8+HCdOnDB+z9qO4SeffILRo0fD2dm5xnZzOYamut17sDH+zcyJwWBAUVHRTe/Bs2fPIiAgAMHBwXjiiSeQkZEhUYUNFxkZCX9/fwwaNAi//vqrcbu1HcNPPvkEMTExaNOmTY3t5noMNRoNANz0M/dX5vBZaDVhJD8/H3q9Hr6+vjW2+/r63nTt8oacnJxbtr/xpynP2VQa0r+/e+WVVxAQEFDjB+r+++/H559/jvj4eLzzzjv48ccfMWTIEOj1+katvz4a0sdOnTph9erV2LlzJ9auXQuDwYC+ffvi8uXLAKzrGB46dAipqamYPHlyje3mdAxNVdd7UKvVoqysrFF+7s3JokWLUFxcjJEjRxq3RUVFYc2aNdi7dy8+/PBDXLhwAf369UNRUZGEldafv78/Vq5ciS+//BJffvkl1Go1BgwYgOTkZACN87vLXGRnZ+Obb7656T1orsfQYDBgxowZuOuuuxAWFlZnO3P4LLSIVXvpzi1cuBAbN25EQkJCjQGeo0ePNv69a9euCA8PR7t27ZCQkID77rtPilJNEh0djejoaOPXffv2RefOnfHRRx9h/vz5ElbW+D755BN07doVvXv3rrHd0o+hrVi/fj3mzZuHnTt31hhPMWTIEOPfw8PDERUVhTZt2mDz5s2YNGmSFKWapFOnTujUqZPx6759++LcuXNYunQpvvjiCwkra3yfffYZPDw8MGLEiBrbzfUYTps2DampqZKOQaovqzkz4uXlBYVCgdzc3Brbc3Nz4efnV+s+fn5+t2x/409TnrOpNKR/NyxatAgLFy7Ed999h/Dw8Fu2DQ4OhpeXF9LT0++4ZlPdSR9vsLe3R7du3Yz1W8sxLCkpwcaNG+v1i03KY2iqut6Dbm5ucHR0bJSfCXOwceNGTJ48GZs3b77pdPjfeXh4oGPHjhZx/OrSu3dvY/3WcgyFEFi9ejXGjh0LpVJ5y7bmcAyfe+45fP3119i/fz9atWp1y7bm8FloNWFEqVSiR48eiI+PN24zGAyIj4+v8T/nv4qOjq7RHgD27dtnbN+2bVv4+fnVaKPVanHw4ME6n7OpNKR/QPUI6Pnz52Pv3r3o2bPnbV/n8uXLuHbtGvz9/RulblM0tI9/pdfrcfz4cWP91nAMgerb7ioqKvDkk0/e9nWkPIamut17sDF+JqS2YcMGTJw4ERs2bKhxS3ZdiouLce7cOYs4fnVJSUkx1m8NxxCovkslPT29Xv8hkPIYCiHw3HPPYfv27fjhhx/Qtm3b2+5jFp+FjTIM1kxs3LhRqFQqsWbNGnHy5Enx9NNPCw8PD5GTkyOEEGLs2LFi5syZxva//vqrsLOzE4sWLRKnTp0Sc+fOFfb29uL48ePGNgsXLhQeHh5i586d4tixY2L48OGibdu2oqyszOz7t3DhQqFUKsXWrVvFlStXjI+ioiIhhBBFRUXipZdeEomJieLChQvi+++/F927dxcdOnQQ5eXlzd6/hvRx3rx54ttvvxXnzp0TSUlJYvTo0cLBwUGcOHHC2MaSj+ENd999txg1atRN283tGBYVFYkjR46II0eOCABiyZIl4siRI+LSpUtCCCFmzpwpxo4da2x//vx54eTkJF5++WVx6tQpsWLFCqFQKMTevXuNbW73b2bO/Vu3bp2ws7MTK1asqPEeLCwsNLZ58cUXRUJCgrhw4YL49ddfRUxMjPDy8hJ5eXnN3j8hTO/j0qVLxY4dO8TZs2fF8ePHxfPPPy/kcrn4/vvvjW0s+Rje8OSTT4qoqKhan9OcjuHUqVOFu7u7SEhIqPEzV1paamxjjp+FVhVGhBDiP//5j2jdurVQKpWid+/e4sCBA8bv9e/fX4wfP75G+82bN4uOHTsKpVIpunTpInbv3l3j+waDQcyePVv4+voKlUol7rvvPpGWltYcXamVKf1r06aNAHDTY+7cuUIIIUpLS8XgwYOFt7e3sLe3F23atBFTpkyR5BfEX5nSxxkzZhjb+vr6igceeEAkJyfXeD5LPoZCCHH69GkBQHz33Xc3PZe5HcMbt3n+/XGjT+PHjxf9+/e/aZ/IyEihVCpFcHCw+PTTT2963lv9mzUnU/vXv3//W7YXovpWZn9/f6FUKkVgYKAYNWqUSE9Pb96O/YWpfXznnXdEu3bthIODg/D09BQDBgwQP/zww03Pa6nHUIjq21gdHR3Fxx9/XOtzmtMxrK1vAGq8r8zxs1D2R/FEREREkrCaMSNERERkmRhGiIiISFIMI0RERCQphhEiIiKSFMMIERERSYphhIiIiCTFMEJERESSYhghIiIiSTGMEBERkaQYRoiIiEhSDCNEREQkKYYRIiIiktT/A+QHoYD4BoOfAAAAAElFTkSuQmCC',\n",
       "      'text/plain': '<Figure size 640x480 with 1 Axes>'},\n",
       "     'metadata': {},\n",
       "     'output_type': 'display_data'}],\n",
       "   'source': 'plt.plot(t, y)'},\n",
       "  {'cell_type': 'markdown',\n",
       "   'metadata': {},\n",
       "   'source': 'I will read a file. How does that look?'},\n",
       "  {'cell_type': 'code',\n",
       "   'execution_count': 11,\n",
       "   'metadata': {},\n",
       "   'outputs': [],\n",
       "   'source': \"with open('textfile.txt', 'r') as f:\\n    text = f.read()\"},\n",
       "  {'cell_type': 'code',\n",
       "   'execution_count': 12,\n",
       "   'metadata': {},\n",
       "   'outputs': [{'data': {'text/plain': \"'This is a simple text file'\"},\n",
       "     'execution_count': 12,\n",
       "     'metadata': {},\n",
       "     'output_type': 'execute_result'}],\n",
       "   'source': 'text'},\n",
       "  {'cell_type': 'markdown',\n",
       "   'metadata': {},\n",
       "   'source': 'I will write a text file. How does that look?'},\n",
       "  {'cell_type': 'code',\n",
       "   'execution_count': 13,\n",
       "   'metadata': {},\n",
       "   'outputs': [],\n",
       "   'source': \"with open('textfile1.txt', 'w') as f:\\n    f.write('I am writing')\"},\n",
       "  {'cell_type': 'markdown',\n",
       "   'metadata': {},\n",
       "   'source': 'What if I read an image?'},\n",
       "  {'cell_type': 'code',\n",
       "   'execution_count': 14,\n",
       "   'metadata': {},\n",
       "   'outputs': [],\n",
       "   'source': \"im_frame = Image.open('img.png')\"},\n",
       "  {'cell_type': 'markdown',\n",
       "   'metadata': {},\n",
       "   'source': 'What if I print that image on screen?'},\n",
       "  {'cell_type': 'code',\n",
       "   'execution_count': 15,\n",
       "   'metadata': {},\n",
       "   'outputs': [{'data': {'image/png': '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',\n",
       "      'text/plain': '<PIL.PngImagePlugin.PngImageFile image mode=RGBA size=131x130>'},\n",
       "     'execution_count': 15,\n",
       "     'metadata': {},\n",
       "     'output_type': 'execute_result'}],\n",
       "   'source': 'im_frame'}],\n",
       " 'metadata': {'kernelspec': {'display_name': 'jnbformat',\n",
       "   'language': 'python',\n",
       "   'name': 'python3'},\n",
       "  'language_info': {'codemirror_mode': {'name': 'ipython', 'version': 3},\n",
       "   'file_extension': '.py',\n",
       "   'mimetype': 'text/x-python',\n",
       "   'name': 'python',\n",
       "   'nbconvert_exporter': 'python',\n",
       "   'pygments_lexer': 'ipython3',\n",
       "   'version': '3.12.4'}},\n",
       " 'nbformat': 4,\n",
       " 'nbformat_minor': 2}"
      ]
     },
     "execution_count": 6,
     "metadata": {},
     "output_type": "execute_result"
    }
   ],
   "source": [
    "notebook"
   ]
  },
  {
   "cell_type": "code",
   "execution_count": 7,
   "metadata": {},
   "outputs": [
    {
     "data": {
      "text/plain": [
       "dict_keys(['cells', 'metadata', 'nbformat', 'nbformat_minor'])"
      ]
     },
     "execution_count": 7,
     "metadata": {},
     "output_type": "execute_result"
    }
   ],
   "source": [
    "# It looks like a dictionary. Let's see the keys\n",
    "notebook.keys()"
   ]
  },
  {
   "cell_type": "code",
   "execution_count": 10,
   "metadata": {},
   "outputs": [],
   "source": [
    "cells = notebook['cells']"
   ]
  },
  {
   "cell_type": "code",
   "execution_count": 11,
   "metadata": {},
   "outputs": [
    {
     "data": {
      "text/plain": [
       "list"
      ]
     },
     "execution_count": 11,
     "metadata": {},
     "output_type": "execute_result"
    }
   ],
   "source": [
    "type(cells)"
   ]
  },
  {
   "cell_type": "code",
   "execution_count": 9,
   "metadata": {},
   "outputs": [
    {
     "data": {
      "text/plain": [
       "24"
      ]
     },
     "execution_count": 9,
     "metadata": {},
     "output_type": "execute_result"
    }
   ],
   "source": [
    "# how many cells?\n",
    "len(notebook['cells'])"
   ]
  },
  {
   "cell_type": "code",
   "execution_count": 12,
   "metadata": {},
   "outputs": [
    {
     "data": {
      "text/plain": [
       "{'cell_type': 'markdown',\n",
       " 'metadata': {},\n",
       " 'source': '# This is a markdown cell'}"
      ]
     },
     "execution_count": 12,
     "metadata": {},
     "output_type": "execute_result"
    }
   ],
   "source": [
    "# what are in the cells?\n",
    "cells[0]"
   ]
  },
  {
   "cell_type": "code",
   "execution_count": 13,
   "metadata": {},
   "outputs": [
    {
     "data": {
      "text/plain": [
       "{'cell_type': 'markdown',\n",
       " 'metadata': {},\n",
       " 'source': 'This is a multi-line markdown cell.\\n\\nI want to see what it looks like when I read it\\n'}"
      ]
     },
     "execution_count": 13,
     "metadata": {},
     "output_type": "execute_result"
    }
   ],
   "source": [
    "cells[1]"
   ]
  },
  {
   "cell_type": "code",
   "execution_count": 14,
   "metadata": {},
   "outputs": [
    {
     "data": {
      "text/plain": [
       "{'cell_type': 'code',\n",
       " 'execution_count': 1,\n",
       " 'metadata': {},\n",
       " 'outputs': [],\n",
       " 'source': 'import numpy as np \\nimport matplotlib.pyplot as plt\\nfrom PIL import Image'}"
      ]
     },
     "execution_count": 14,
     "metadata": {},
     "output_type": "execute_result"
    }
   ],
   "source": [
    "cells[2]"
   ]
  },
  {
   "cell_type": "code",
   "execution_count": 15,
   "metadata": {},
   "outputs": [
    {
     "data": {
      "text/plain": [
       "{'cell_type': 'code',\n",
       " 'execution_count': 13,\n",
       " 'metadata': {},\n",
       " 'outputs': [],\n",
       " 'source': \"with open('textfile1.txt', 'w') as f:\\n    f.write('I am writing')\"}"
      ]
     },
     "execution_count": 15,
     "metadata": {},
     "output_type": "execute_result"
    }
   ],
   "source": [
    "cells[-5]"
   ]
  },
  {
   "cell_type": "code",
   "execution_count": 16,
   "metadata": {},
   "outputs": [
    {
     "data": {
      "text/plain": [
       "15"
      ]
     },
     "execution_count": 16,
     "metadata": {},
     "output_type": "execute_result"
    }
   ],
   "source": [
    "# It looks like there is 'cell_type' key has code or markdown. How many code cells?\n",
    "len([cell for cell in cells if cell['cell_type'] == 'code'])"
   ]
  },
  {
   "cell_type": "code",
   "execution_count": 17,
   "metadata": {},
   "outputs": [
    {
     "data": {
      "text/plain": [
       "9"
      ]
     },
     "execution_count": 17,
     "metadata": {},
     "output_type": "execute_result"
    }
   ],
   "source": [
    "# How many markdown cells?\n",
    "len([cell for cell in cells if cell['cell_type'] == 'markdown'])"
   ]
  },
  {
   "cell_type": "code",
   "execution_count": 27,
   "metadata": {},
   "outputs": [
    {
     "data": {
      "text/plain": [
       "{'cell_type': 'markdown',\n",
       " 'metadata': {},\n",
       " 'source': '# This is a markdown cell'}"
      ]
     },
     "execution_count": 27,
     "metadata": {},
     "output_type": "execute_result"
    }
   ],
   "source": [
    "# How does markdown cell look like?\n",
    "cells[0]"
   ]
  },
  {
   "cell_type": "code",
   "execution_count": 28,
   "metadata": {},
   "outputs": [
    {
     "data": {
      "text/plain": [
       "{'cell_type': 'markdown',\n",
       " 'metadata': {},\n",
       " 'source': 'This is a multi-line markdown cell.\\n\\nI want to see what it looks like when I read it\\n'}"
      ]
     },
     "execution_count": 28,
     "metadata": {},
     "output_type": "execute_result"
    }
   ],
   "source": [
    "cells[1]"
   ]
  },
  {
   "cell_type": "markdown",
   "metadata": {},
   "source": [
    "source key contains the markdown text"
   ]
  },
  {
   "cell_type": "code",
   "execution_count": 30,
   "metadata": {},
   "outputs": [
    {
     "data": {
      "text/plain": [
       "{'cell_type': 'code',\n",
       " 'execution_count': 2,\n",
       " 'metadata': {},\n",
       " 'outputs': [],\n",
       " 'source': '# This is a commented out cell'}"
      ]
     },
     "execution_count": 30,
     "metadata": {},
     "output_type": "execute_result"
    }
   ],
   "source": [
    "# How does commented out code look like?\n",
    "cells[3]"
   ]
  },
  {
   "cell_type": "markdown",
   "metadata": {},
   "source": [
    "Cell type is code but source is the commented out code and outputs is empty list"
   ]
  },
  {
   "cell_type": "code",
   "execution_count": 31,
   "metadata": {},
   "outputs": [
    {
     "data": {
      "text/plain": [
       "{'cell_type': 'code',\n",
       " 'execution_count': 3,\n",
       " 'metadata': {},\n",
       " 'outputs': [],\n",
       " 'source': 'a = 10'}"
      ]
     },
     "execution_count": 31,
     "metadata": {},
     "output_type": "execute_result"
    }
   ],
   "source": [
    "# How does a code cell without output look like?\n",
    "cells[4]"
   ]
  },
  {
   "cell_type": "code",
   "execution_count": 32,
   "metadata": {},
   "outputs": [
    {
     "data": {
      "text/plain": [
       "{'cell_type': 'code',\n",
       " 'execution_count': 4,\n",
       " 'metadata': {},\n",
       " 'outputs': [],\n",
       " 'source': 'b = 20\\nc = 100'}"
      ]
     },
     "execution_count": 32,
     "metadata": {},
     "output_type": "execute_result"
    }
   ],
   "source": [
    "cells[5]"
   ]
  },
  {
   "cell_type": "markdown",
   "metadata": {},
   "source": [
    "Source contains code as string"
   ]
  },
  {
   "cell_type": "code",
   "execution_count": 33,
   "metadata": {},
   "outputs": [
    {
     "data": {
      "text/plain": [
       "{'cell_type': 'code',\n",
       " 'execution_count': 5,\n",
       " 'metadata': {},\n",
       " 'outputs': [{'name': 'stdout',\n",
       "   'output_type': 'stream',\n",
       "   'text': 'I want to see print statements stored in jupyter notebook\\n'}],\n",
       " 'source': 'print(\"I want to see print statements stored in jupyter notebook\")'}"
      ]
     },
     "execution_count": 33,
     "metadata": {},
     "output_type": "execute_result"
    }
   ],
   "source": [
    "# How does print statement look like?\n",
    "cells[6]"
   ]
  },
  {
   "cell_type": "code",
   "execution_count": 34,
   "metadata": {},
   "outputs": [
    {
     "data": {
      "text/plain": [
       "[{'name': 'stdout',\n",
       "  'output_type': 'stream',\n",
       "  'text': 'I want to see print statements stored in jupyter notebook\\n'}]"
      ]
     },
     "execution_count": 34,
     "metadata": {},
     "output_type": "execute_result"
    }
   ],
   "source": [
    "cells[6]['outputs']"
   ]
  },
  {
   "cell_type": "code",
   "execution_count": 35,
   "metadata": {},
   "outputs": [
    {
     "data": {
      "text/plain": [
       "'print(\"I want to see print statements stored in jupyter notebook\")'"
      ]
     },
     "execution_count": 35,
     "metadata": {},
     "output_type": "execute_result"
    }
   ],
   "source": [
    "cells[6]['source']"
   ]
  },
  {
   "cell_type": "markdown",
   "metadata": {},
   "source": [
    "Outputs is a list dictionaries with output_type as stream? Should figure out what it is"
   ]
  },
  {
   "cell_type": "code",
   "execution_count": 36,
   "metadata": {},
   "outputs": [
    {
     "data": {
      "text/plain": [
       "{'cell_type': 'code',\n",
       " 'execution_count': 6,\n",
       " 'metadata': {},\n",
       " 'outputs': [{'data': {'text/plain': '20'},\n",
       "   'execution_count': 6,\n",
       "   'metadata': {},\n",
       "   'output_type': 'execute_result'}],\n",
       " 'source': 'b'}"
      ]
     },
     "execution_count": 36,
     "metadata": {},
     "output_type": "execute_result"
    }
   ],
   "source": [
    "# What is the output of a cell that is printing out a variable without using print statement? How does it differ from print()?\n",
    "cells[7]"
   ]
  },
  {
   "cell_type": "code",
   "execution_count": 37,
   "metadata": {},
   "outputs": [
    {
     "data": {
      "text/plain": [
       "[{'data': {'text/plain': '20'},\n",
       "  'execution_count': 6,\n",
       "  'metadata': {},\n",
       "  'output_type': 'execute_result'}]"
      ]
     },
     "execution_count": 37,
     "metadata": {},
     "output_type": "execute_result"
    }
   ],
   "source": [
    "cells[7]['outputs']"
   ]
  },
  {
   "cell_type": "markdown",
   "metadata": {},
   "source": [
    "So code executed will have output_type as 'execute_result' and there is also another field called 'data' which contains the result in plain text."
   ]
  },
  {
   "cell_type": "code",
   "execution_count": 38,
   "metadata": {},
   "outputs": [
    {
     "data": {
      "text/plain": [
       "{'cell_type': 'code',\n",
       " 'execution_count': 7,\n",
       " 'metadata': {},\n",
       " 'outputs': [{'data': {'text/plain': '80'},\n",
       "   'execution_count': 7,\n",
       "   'metadata': {},\n",
       "   'output_type': 'execute_result'}],\n",
       " 'source': 'c - b'}"
      ]
     },
     "execution_count": 38,
     "metadata": {},
     "output_type": "execute_result"
    }
   ],
   "source": [
    "# What is the output of a cell that is calculating something? Any change here?\n",
    "cells[8]"
   ]
  },
  {
   "cell_type": "markdown",
   "metadata": {},
   "source": [
    "No change here. Thing to note is that there is a field called execution_count which keeps track of when the cell was executed."
   ]
  },
  {
   "cell_type": "code",
   "execution_count": 40,
   "metadata": {},
   "outputs": [
    {
     "data": {
      "text/plain": [
       "{'cell_type': 'markdown',\n",
       " 'metadata': {},\n",
       " 'source': 'Below is a formula in lates. How does that show up?'}"
      ]
     },
     "execution_count": 40,
     "metadata": {},
     "output_type": "execute_result"
    }
   ],
   "source": [
    "# How does latex cell show up as?\n",
    "cells[9]"
   ]
  },
  {
   "cell_type": "code",
   "execution_count": 41,
   "metadata": {},
   "outputs": [
    {
     "data": {
      "text/plain": [
       "{'cell_type': 'markdown',\n",
       " 'metadata': {},\n",
       " 'source': '$$c = \\\\sqrt{a^2 + b^2}$$'}"
      ]
     },
     "execution_count": 41,
     "metadata": {},
     "output_type": "execute_result"
    }
   ],
   "source": [
    "cells[10]"
   ]
  },
  {
   "cell_type": "markdown",
   "metadata": {},
   "source": [
    "Same as markdown but it shows up as a string in source"
   ]
  },
  {
   "cell_type": "code",
   "execution_count": 43,
   "metadata": {},
   "outputs": [
    {
     "data": {
      "text/plain": [
       "{'cell_type': 'code',\n",
       " 'execution_count': 8,\n",
       " 'metadata': {},\n",
       " 'outputs': [],\n",
       " 'source': 't = np.linspace(0, 2, 100)\\ny = np.sin(t)'}"
      ]
     },
     "execution_count": 43,
     "metadata": {},
     "output_type": "execute_result"
    }
   ],
   "source": [
    "# How does another method which is not just streaming text but calculating something show up as?\n",
    "cells[11] # not this"
   ]
  },
  {
   "cell_type": "code",
   "execution_count": 44,
   "metadata": {},
   "outputs": [
    {
     "data": {
      "text/plain": [
       "{'cell_type': 'code',\n",
       " 'execution_count': 9,\n",
       " 'metadata': {},\n",
       " 'outputs': [{'data': {'text/plain': '100'},\n",
       "   'execution_count': 9,\n",
       "   'metadata': {},\n",
       "   'output_type': 'execute_result'}],\n",
       " 'source': 'len(t)'}"
      ]
     },
     "execution_count": 44,
     "metadata": {},
     "output_type": "execute_result"
    }
   ],
   "source": [
    "cells[12]"
   ]
  },
  {
   "cell_type": "markdown",
   "metadata": {},
   "source": [
    "Same as other code cell"
   ]
  },
  {
   "cell_type": "code",
   "execution_count": 46,
   "metadata": {},
   "outputs": [
    {
     "data": {
      "text/plain": [
       "{'cell_type': 'markdown', 'metadata': {}, 'source': 'How will plots show up?'}"
      ]
     },
     "execution_count": 46,
     "metadata": {},
     "output_type": "execute_result"
    }
   ],
   "source": [
    "# How about plots?\n",
    "cells[13]"
   ]
  },
  {
   "cell_type": "code",
   "execution_count": 47,
   "metadata": {},
   "outputs": [
    {
     "data": {
      "text/plain": [
       "{'cell_type': 'code',\n",
       " 'execution_count': 10,\n",
       " 'metadata': {},\n",
       " 'outputs': [{'data': {'text/plain': '[<matplotlib.lines.Line2D at 0x7f37cb5b8b60>]'},\n",
       "   'execution_count': 10,\n",
       "   'metadata': {},\n",
       "   'output_type': 'execute_result'},\n",
       "  {'data': {'image/png': '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',\n",
       "    'text/plain': '<Figure size 640x480 with 1 Axes>'},\n",
       "   'metadata': {},\n",
       "   'output_type': 'display_data'}],\n",
       " 'source': 'plt.plot(t, y)'}"
      ]
     },
     "execution_count": 47,
     "metadata": {},
     "output_type": "execute_result"
    }
   ],
   "source": [
    "cells[14]"
   ]
  },
  {
   "cell_type": "markdown",
   "metadata": {},
   "source": [
    "This looks interesting. How many outputs?"
   ]
  },
  {
   "cell_type": "code",
   "execution_count": 49,
   "metadata": {},
   "outputs": [
    {
     "data": {
      "text/plain": [
       "2"
      ]
     },
     "execution_count": 49,
     "metadata": {},
     "output_type": "execute_result"
    }
   ],
   "source": [
    "len(cells[14]['outputs'])"
   ]
  },
  {
   "cell_type": "code",
   "execution_count": 51,
   "metadata": {},
   "outputs": [
    {
     "data": {
      "text/plain": [
       "{'data': {'text/plain': '[<matplotlib.lines.Line2D at 0x7f37cb5b8b60>]'},\n",
       " 'execution_count': 10,\n",
       " 'metadata': {},\n",
       " 'output_type': 'execute_result'}"
      ]
     },
     "execution_count": 51,
     "metadata": {},
     "output_type": "execute_result"
    }
   ],
   "source": [
    "cells[14]['outputs'][0] # This is probably the line that shows up when there is no semi-colon at the end of plot command"
   ]
  },
  {
   "cell_type": "code",
   "execution_count": 52,
   "metadata": {},
   "outputs": [
    {
     "data": {
      "text/plain": [
       "{'data': {'image/png': 'iVBORw0KGgoAAAANSUhEUgAAAiMAAAGdCAYAAADAAnMpAAAAP3RFWHRTb2Z0d2FyZQBNYXRwbG90bGliIHZlcnNpb24zLjkuMS5wb3N0MSwgaHR0cHM6Ly9tYXRwbG90bGliLm9yZy8kixA/AAAACXBIWXMAAA9hAAAPYQGoP6dpAABD10lEQVR4nO3deVxU5f4H8M/MwAw7iOw4irghIuCKWKYWSmam3cqlckvtZuYvo7pppWbe0sqtrt4sb2blrrmVZhlJK2qCqLiguIEgICIz7AMzz+8PcooEZRA4s3zer9e8lMNzZr6Ph2E+nvOc55EJIQSIiIiIJCKXugAiIiKybQwjREREJCmGESIiIpIUwwgRERFJimGEiIiIJMUwQkRERJJiGCEiIiJJMYwQERGRpOykLqA+DAYDsrOz4erqCplMJnU5REREVA9CCBQVFSEgIAByed3nPywijGRnZ0OtVktdBhERETVAZmYmWrVqVef3LSKMuLq6AqjujJubm8TVEBERUX1otVqo1Wrj53hdLCKM3Lg04+bmxjBCRERkYW43xIIDWImIiEhSDCNEREQkKYYRIiIikhTDCBEREUmKYYSIiIgkxTBCREREkmIYISIiIkkxjBAREZGkGEaIiIhIUiaHkZ9++gnDhg1DQEAAZDIZduzYcdt9EhIS0L17d6hUKrRv3x5r1qxpQKlERERkjUwOIyUlJYiIiMCKFSvq1f7ChQsYOnQoBg4ciJSUFMyYMQOTJ0/Gt99+a3KxREREZH1MXptmyJAhGDJkSL3br1y5Em3btsXixYsBAJ07d8Yvv/yCpUuXIjY21tSXJyIiIivT5AvlJSYmIiYmpsa22NhYzJgxo859KioqUFFRYfxaq9U2VXlERNSIdFUGFJbpoCmthKasEoWlldCWV6KsUo/ySgPKK/Uor9RDpzdACMBgEBAADELAXiGHnVwGe4UcSjs5VHZyuKjs4Kyyg4uDHVxVdvBwUqKlsxLujvaQy2+9+BpZjiYPIzk5OfD19a2xzdfXF1qtFmVlZXB0dLxpnwULFmDevHlNXRoREZmgSm/AFU05Mq+X4vL1MlwuKEVWYTnyisqRp61AXlE5rpdWNkstCrkMLZzs4eWigr+7A/w9HOHvVv1na08nBLV0grer6rarxZJ5aPIw0hCzZs1CXFyc8WutVgu1Wi1hRUREtkNXZcDZvCKk5RTh3NVipOcV49zVEly6VoJKvbjt/nIZ4OZoD/c/Hm4O9nBUKuBoX/1wsJfDXiGHXC6DTAbIZTLIAOgNAjq9AZV6A6r0AmWVepRUVKGovAoluuo/C0p0KCqvgt4gkF+sQ36xDqdzimqtw0mpQJuWzgj2ckYHXxeE+Lmio68r2rR0hoJnVcxKk4cRPz8/5Obm1tiWm5sLNze3Ws+KAIBKpYJKpWrq0oiIbF55pR4nsrVIySzEyWwtTl7RIj2vqM7QoVTIEdjCEa1aOELt6YRAD0f4ujnAx1UFHzcVfFwd4NHEl1B0VQZcL9XhWrEOeUXlyNGUI1tTjiuFZbiiKcelghJkXS9DqU6PU1e0OHVFCxz/c3+VnRwhfq4IC3RHeCt3dA30QAdfF9grONuFVJo8jERHR2PPnj01tu3btw/R0dFN/dJERPQ3eUXlOHi+AEmXruNIZiFOZmtqDR5uDnYI8XdDBx8XtPN2QXsfFwR7OyPA3VHysRpKOzl83Rzg6+aAULjV2kZXZUDm9VJculaCc3klSMstwpk/HuWVBhy9rMHRyxqsO1jdXmUnR4TaA72CWqBnG090b9MC7o72zdgr22ZyGCkuLkZ6errx6wsXLiAlJQWenp5o3bo1Zs2ahaysLHz++ecAgGeeeQbLly/Hv/71Lzz11FP44YcfsHnzZuzevbvxekFERLXKL67Ar+n5OHC+AAfPX8P5/JKb2ni5KBGp9kBYoDtC/d0QGuCGQA9Hix5vobSTo513dZC6N+TP7XqDQGZBKVKzNTh+WYNjlzVIzdKgqKIKhy4U4NCFAgDnIJMBIX5u6NuuJe5q3xK927aEi8osRzZYBZkQ4vYXAP8iISEBAwcOvGn7+PHjsWbNGkyYMAEXL15EQkJCjX1eeOEFnDx5Eq1atcLs2bMxYcKEer+mVquFu7s7NBoN3NxqT8FERFR9RiDp0nX8dPYqfjpzFSeya96NKJMBof5u6BVU/b//bmoPtGph2cHjThkMAufzi3H44nUcvnQdhy8W4OK10hpt7OQyRKg90L+jN+4N8UGXADeb/jerr/p+fpscRqTAMEJEVLfCUh0S0q5i36lc/Jh2FcUVVTW+H+rvhrvat0RU25boFeQJdydefridvKJyHDhfgN/S8/HbuWvIKKgZTnxcVRjYyQf3dvbBPR284ahUSFSpeWMYISKyYnlF5dibmoNvjufg0MUC6A1//ir3clGiXwdv3NPRC3e394a3K28IuFOZBaX4+Ww+9qfl4df0fJTq9MbvOdorMKCTN+4P88O9IT5wdWDYu4FhhIjIyuQXV+Cb1BzsPpaNgxcK8Nff3p18XRET6oNBoX4ID3SXfJCpNauo0uPQhQL8cDoP353IRVZhmfF7SoUc93T0xkORAYjp7AMnpW2PM2EYISKyAuWVenx3Mhfbki/j57P5Nc6ARKo9MLSrP2K7+KF1SycJq7RdQgicyNZib2oO9p7IQXpesfF7TkoFBoX6YnhkAO7p4A07G7x1mGGEiMhCCSFw+NJ1bD18GXuOX0HRX8aAhLdyx4Ph/hgS5g+1JwOIuTmbW4RdR7OxMyW7xjgTb1cV/tE9EI/1UKO9j4uEFTYvhhEiIgtTUKLDtuTL2Ph7Zo3/Ybdq4YiHuwViRLdAtPO2nQ8ySyaEQEpmIXamZOOro9m4VqIzfq9baw+M7qXGsIgAq7+MwzBCRGQBbpwF+TzxEr5NzYFObwBQPSjywXB/PNqjFXoFeXIMiAXTVRnww+k8bE3KxP60q8ZLba4Odnikeys8EdUaHXxdJa6yaTCMEBGZsTKdHjtTsvBZ4qXq6cr/0DXQHaN7q/FQRADvyrBCeUXl+DIpCxsOZdS4jBPV1hMT7wrCoFA/q1o3h2GEiMgM5WjK8elvF7DxUCY0ZdUr3DrYy/Fwt0A8EdUGYYHuEldIzcFgEPg5PR/rDlzC96dycWNccqsWjpjQNwgje6nhZgVhlGGEiMiMnLqixaqfz2NXSjaq/vjkUXs6YlyfIIzsqeZEZDbsiqYM6w5kYN3BS7heWh1QnZUKjOylxuR+wQj0qH1RWUvAMEJEJDEhBBLPX8OHCefw89l84/aotp6Y3C8Y94b4WNUpebozZTo9dqRkYfUvF3D2jwHMdnIZHooIwD/7t0MnP8sbV8IwQkQkESEE9qflYfkP6UjOKAQAKOQyPNDVH1P6tUV4Kw9J6yPzJoTAT2fz8dGP5/DbuWvG7feF+OC5e9ujW+sWElZnGoYRIqJmZjAI7D2Rg+U/pOPkH4NSlXZyjO6lxpR+wZwXhEx2NLMQH/10Dt+k5hhn3O3XwQszYjqgRxtPaYurB4YRIqJmIoTAdydzsXTfGZzOKQJQfc3/yT5tMKlfW/i4OkhcIVm681eL8WHCOWw7kmW8Nfju9l54PqYDegWZbyhhGCEiamI3Lscs2XcGqVnVZ0JcVHZ46q4gTLyrLVo4KyWukKxNxrVSrNifji+TLxsHQg/o5I2XBncyyzuxGEaIiJrQ7xcL8M43p3H40nUA1euQTLwrCFP6BcPDiSGEmlZmQSn+m5COzYcvG8+UDO3qjxcGdTSr6eYZRoiImsCZ3CK8u/c0vj+VB6B6jpDx0UH4Z/928OSZEGpmF/NLsPT7M9h1NBtCAHIZMLKnGnGDOsLHTfrLgwwjRESNKFdbjkXfpuHL5MswiOq7Y0b1UuP5+zrA1wx+6ZNtO52jxeLvzmDfyVwA1csJTLknGP+8JxjOKunWv2EYISJqBGU6PVb9fB4rfzyHUp0eADAkzA8vxXbionVkdg5fLMDbe04Zbyn3clEhblBHjOqllmROG4YRIqI7YDAI7DyahXf3puGKphwA0L21B15/MBTdLWieB7I9Qgh8k5qDd/aexqVr1evfdPZ3w9xhoegT3LJZa2EYISJqoOOXNZizKxVH/vjfZaCHI2YOCcGD4f6QyThjKlkGXZUBaw9cwrLvz0BbXgWgepDrrAdC0KpF88x5wzBCRGSighId3vs2DRt/z4AQ1XOFTLu3PZ66qy0c7BVSl0fUIAUlOizZl4b1BzNgEIDKTo5n+rfD1AHtmvznmmGEiKie9AaB9YcysOjbNONKug93C8TMISEcnEpW49QVLeZ9dQIHzhcAAFp7OmHeQ10wMMSnyV6TYYSIqB5SszR4bUcqjmYWAgBC/Fzx5vAw9G5rvrNaEjWUEAK7j1/B/K9PIldbAQAYHOqLOcNCm+TSDcMIEdEtFFdUYem+M/j01wswiOqZU18a3BFP9mkDO4Vc6vKImlRxRRXe//4MVv96EXqDgIO9HO+P7obYLn6N+jr1/fyW7uZjIiKJ7DuZizk7U413yQwN98ecB0N5SYZshovKDq8NDcUjPVphzo4TSM3WILyVdNPJM4wQkc3IL67AG7tO4OtjVwAAak9HzB8ehgGdmu6aOZE5C/Fzw6Z/9kF6XjH83R0lq4NhhIisnhAC249k4c2vT6KwtBIKuQyT+7XFjPs6wlHJu2TItslkMnTwdZW0BoYRIrJqVzRlmLXtOBLSrgKonvzp3UfC0VXCU9JEVBPDCBFZJSEEtiZdxptfn0RReRWUdnI8f18HPH1PMOw5QJXIrDCMEJHVydOWY9a244g/Xb2yboTaA4sfC0d7H2lPRRNR7RhGiMiq7Dqajdk7UqEpq4RSIceMQR3wdL9g3q5LZMYYRojIKmjKKjF7Ryp2Hc0GAIQFumHxY5Ho5MezIUTmjmGEiCxe4rlreHFzCrI15VDIZZg2sD2m39ueY0OILATDCBFZrIoqPZZ8dwYf/3weQgBtWjph6ahIdG/dQurSiMgEDCNEZJHOXy3G/208gtQsLQBgdC81Zj8YCmcVf60RWRq+a4nIogghsC05C7N3pqJUp4eHkz3eeSS80dfUIKLmwzBCRBajqLx6kOqOlOpBqn2CPbFsVDf4uXNNGSJLxjBCRBYhNUuDaeuTcelaKRRyGV6I6YCpA9pDIZdJXRoR3SGGESIya0IIrDuYgTe/Ogmd3oBAD0d8MCYSPdp4Sl0aETUShhEiMlvFFVWYte04vvpj7pCYzj5Y9FgEPJyUEldGRI2JYYSIzNLpHC2eXZuM8/klUMhleOX+TpjSLxgyGS/LEFkbhhEiMjs7jmRh5rZjKK80wN/dAcsf78bLMkRWjGGEiMyGrsqAt3afxGeJlwAA/Tp44f3R3eDpzMsyRNaMYYSIzEKOphzPrktCckYhAGD6ve0xI6Yj75YhsgEMI0Qkud8vFmDq2iTkF+vg6mCHpSMjERPqK3VZRNRMGEaISDI3btt9Y9cJVBkEQvxcsfLJHgjycpa6NCJqRgwjRCSJiio93th1AhsOZQIAhob7471Hw+Gk5K8lIlvDdz0RNbs8bTmeWVs9PkQmA/4VG4Jn+vO2XSJbxTBCRM0qNUuDyZ8dRo62HG4OdvhgTDcM6OQjdVlEJCGGESJqNnuOX0Hc5hSUVxrQztsZ/xvfC205PoTI5jGMEFGTE0Lgg/h0LP3+DACgf0dv/OfxbnBzsJe4MiIyBwwjRNSkyiv1eHHLUew+dgUAMOnutpg1JAR2CrnElRGRuWAYIaImc7WoAlM+P4yUzELYK2T494gwjOrVWuqyiMjMMIwQUZM4m1uEiWt+x+XrZXB3tMdHY3ugT3BLqcsiIjPEMEJEje7ns1fx7NpkFFVUIailE1ZP6IVgbxepyyIiM8UwQkSNauOhDLy2IxV6g0DvIE+sHNuDC90R0S01aATZihUrEBQUBAcHB0RFReHQoUO3bL9s2TJ06tQJjo6OUKvVeOGFF1BeXt6ggonIPAkhsPi7NMzcdhx6g8DD3QLxxeTeDCJEdFsmnxnZtGkT4uLisHLlSkRFRWHZsmWIjY1FWloafHxunrho/fr1mDlzJlavXo2+ffvizJkzmDBhAmQyGZYsWdIonSAiaemqDJi57Ri2JWcBAP7vvg54IaYDZ1QlonqRCSGEKTtERUWhV69eWL58OQDAYDBArVZj+vTpmDlz5k3tn3vuOZw6dQrx8fHGbS+++CIOHjyIX375pV6vqdVq4e7uDo1GAzc3N1PKJaImpi2vxLNrk/FLej4Uchnefph3zBBRtfp+fpt0mUan0yEpKQkxMTF/PoFcjpiYGCQmJta6T9++fZGUlGS8lHP+/Hns2bMHDzzwgCkvTURmKFdbjpErE/FLej6clAr8b3xPBhEiMplJl2ny8/Oh1+vh6+tbY7uvry9Onz5d6z6PP/448vPzcffdd0MIgaqqKjzzzDN49dVX63ydiooKVFRUGL/WarWmlElEzeDc1WKM++QQsgrL4O2qwqcTeiEs0F3qsojIAjX5FIgJCQl4++238d///hfJycnYtm0bdu/ejfnz59e5z4IFC+Du7m58qNXqpi6TiExwJOM6Hv3wN2QVlqGtlzO2Te3LIEJEDWbSmBGdTgcnJyds3boVI0aMMG4fP348CgsLsXPnzpv26devH/r06YP33nvPuG3t2rV4+umnUVxcDLn85jxU25kRtVrNMSNEZmB/Wh6eXZuMsko9Ilq5Y/WEXmjpopK6LCIyQ00yZkSpVKJHjx41BqMaDAbEx8cjOjq61n1KS0tvChwKhQJA9a2AtVGpVHBzc6vxICLpbUu+jMmfHUZZpR73dPTG+il9GESI6I6ZfGtvXFwcxo8fj549e6J3795YtmwZSkpKMHHiRADAuHHjEBgYiAULFgAAhg0bhiVLlqBbt26IiopCeno6Zs+ejWHDhhlDCRGZv9W/XMCbX58EADzcLRDvPhoOey52R0SNwOQwMmrUKFy9ehVz5sxBTk4OIiMjsXfvXuOg1oyMjBpnQl5//XXIZDK8/vrryMrKgre3N4YNG4a33nqr8XpBRE1GCIGl+87ggx/SAVSvuvvaA50hl3MOESJqHCbPMyIFzjNCJA2DQeCNr07g88RLAICXBnfEtIHtOZkZEdVLfT+/uTYNEdWqUm/AS1uOYmdKNmQy4M3hYRjbp43UZRGRFWIYIaKblFfq8dz6ZHx/Kg92chkWj4zA8MhAqcsiIivFMEJENZRUVOHpLw7j1/RrUNnJsfLJHhgYcvO6U0REjYVhhIiMNGWVeGrN70i6dB3OSgX+N74Xotu1lLosIrJyDCNEBAAoKNFh7CcHcSJbCzcHO3z2VG90a91C6rKIyAYwjBAR8orK8eT/DuJMbjFaOivxxaQohAbwzjUiah4MI0Q2LkdTjsdXHcD5/BL4uTlg7eQotPdxkbosIrIhDCNENiyrsAyPrzqAS9dKEejhiPVTotCmpbPUZRGRjWEYIbJRmQWlGLPqAC5fL0NrTyesnxKFVi2cpC6LiGwQwwiRDbqYX4Ixqw7giqYcwV7OWDclCv7ujlKXRUQ2imGEyMZcyC/B6I8TkautQAcfF6ybHAUfNwepyyIiG8YwQmRDzl8txphVB5CrrUBHXxesn9IHXi4qqcsiIhvH9b+JbMRfg0gnX1cGESIyGzwzQmQDzl8txuiPDyCv6EYQiUJLBhEiMhM8M0Jk5arHiFQHkRA/BhEiMj8MI0RW7NK1Eoz5SxBZN5lBhIjMD8MIkZXKLCjFmI8PIEdbjg4+LljLIEJEZophhMgKZRWWYcyqA8jWlCPYu3oeEQ5WJSJzxTBCZGWuaMow5uPqmVXbejljw5Q+8HHlPCJEZL4YRoisSF5ROZ5YdRAZBaXGKd59OaEZEZk5hhEiK1FQosPY/x3C+fwSBHo4YsPTfTjFOxFZBIYRIiugKavEuNUHkZZbBB9XFdZPiUKgB4MIEVkGhhEiC1dSUYWJnx5CapYWLZ2VWD8lCm1aOktdFhFRvTGMEFmw8ko9Jn32O5IzCuHuaI+1k6PQ3sdV6rKIiEzCMEJkoXRVBjy7LhkHzhfAVWWHLyb1Rmd/N6nLIiIyGcMIkQXSGwTiNqfgh9N5cLCX45MJvRDeykPqsoiIGoRhhMjCCCHw2vbj+PrYFdgrZPhobE/0buspdVlERA3GMEJkQYQQeGv3KWz8PRNyGfDB6G7o39Fb6rKIiO4IwwiRBfnPD+n43y8XAADvPBKOIV39Ja6IiOjOMYwQWYgvEi9iyb4zAIC5w0LxWE+1xBURETUOhhEiC7AzJQtzdp0AADx/XwdMvKutxBURETUehhEiM7c/LQ8vbj4KIYDx0W0wI6aD1CURETUqhhEiM3b4YgGmrk1ClUHgoYgAzB3WBTKZTOqyiIgaFcMIkZk6naPFU2t+R3mlAQM6eWPxyAjI5QwiRGR9GEaIzNDl66UYv/oQtOVV6NGmBT58ogfsFXy7EpF14m83IjNTUKLDuNWHkKutQEdfF3wyvicclQqpyyIiajIMI0RmpFRXhYlrfsf5qyUIcHfAZ0/1hoeTUuqyiIiaFMMIkZmo1BswdW0yjmYWwsPJHp9PioK/u6PUZRERNTmGESIzIITAK1uP4cczV+For8CnE3qhvY+L1GURETULhhEiM/Dut2nYdiQLCrkM/32iO7q1biF1SUREzYZhhEhin/12ER8mnAMALPxHVwwM8ZG4IiKi5sUwQiShvalX8MZX1dO8vzS4I9ebISKbxDBCJJHfLxbg/zamQAjgiajWmDawvdQlERFJgmGESALpeUWY/Nlh6KoMGBTqizeHh3GadyKyWQwjRM0sr6gc41f/Dk1ZJbq19sAHo7tBwWneiciGMYwQNaOSiio8teZ3ZBWWIailEz4Z34uzqxKRzWMYIWomVXoDpm84gtQsLTydlVgzsTc8nTm7KhERwwhRMxBCYO6uE/jhdB5UdnL8b3xPBHk5S10WEZFZYBghagYrfzyPdQczIJMB74/uhu6c1IyIyIhhhKiJfX0sG+/sPQ0AmPNgKO4P85O4IiIi88IwQtSEki5dR9zmowCAiXcFYeJdbSWuiIjI/DCMEDWRS9dKMOXz6rlEYjr74vWhoVKXRERklhhGiJpAYakOE9f8joISHboGuuODMZGcS4SIqA4MI0SNTFdlwD+/SML5qyUIcHfAJ+N7wklpJ3VZRERmi2GEqBEJITBr23EcvFAAF5UdVk/sBR83B6nLIiIyawwjRI3ovwnn8GXyZSjkMqx4ojtC/NykLomIyOwxjBA1kj3Hr+C9b9MAAG8MC0X/jt4SV0REZBkaFEZWrFiBoKAgODg4ICoqCocOHbpl+8LCQkybNg3+/v5QqVTo2LEj9uzZ06CCiczR0cxCvLApBQAwoW8QxkYHSVoPEZElMXlU3aZNmxAXF4eVK1ciKioKy5YtQ2xsLNLS0uDj43NTe51Oh0GDBsHHxwdbt25FYGAgLl26BA8Pj8aon0hyWYVlmPz5YVRUGTCwkzdmP8hbeImITCETQghTdoiKikKvXr2wfPlyAIDBYIBarcb06dMxc+bMm9qvXLkS7733Hk6fPg17e/sGFanVauHu7g6NRgM3N16DJ/NRUlGFR1cm4tQVLUL8XLF1al+4qHjnDBERUP/Pb5Mu0+h0OiQlJSEmJubPJ5DLERMTg8TExFr32bVrF6KjozFt2jT4+voiLCwMb7/9NvR6fZ2vU1FRAa1WW+NBZG4MBoEZm1Jw6ooWXi4q/G98TwYRIqIGMCmM5OfnQ6/Xw9fXt8Z2X19f5OTk1LrP+fPnsXXrVuj1euzZswezZ8/G4sWL8e9//7vO11mwYAHc3d2ND7VabUqZRM3ive/SsO9kLpR2cnw8rgdatXCSuiQiIovU5HfTGAwG+Pj44OOPP0aPHj0watQovPbaa1i5cmWd+8yaNQsajcb4yMzMbOoyiUzyZdJlfJhwDgDw7iPhXIWXiOgOmHRO2cvLCwqFArm5uTW25+bmws+v9pVI/f39YW9vD4VCYdzWuXNn5OTkQKfTQalU3rSPSqWCSqUypTSiZpN0qQCzth0HAEwb2A4jugVKXBERkWUz6cyIUqlEjx49EB8fb9xmMBgQHx+P6OjoWve56667kJ6eDoPBYNx25swZ+Pv71xpEiMzZ5eul+OcXSdDpDYjt4osXB3WSuiQiIotn8mWauLg4rFq1Cp999hlOnTqFqVOnoqSkBBMnTgQAjBs3DrNmzTK2nzp1KgoKCvD888/jzJkz2L17N95++21Mmzat8XpB1AxKKqow+bPDyC/WIdTfDUtHRULOxe+IiO6YyUP/R40ahatXr2LOnDnIyclBZGQk9u7daxzUmpGRAbn8z4yjVqvx7bff4oUXXkB4eDgCAwPx/PPP45VXXmm8XhA1MYNB4MXNR3E6pwheLkqs4uJ3RESNxuR5RqTAeUZIakv3ncH78WehVMix4eko9GjjKXVJRERmr0nmGSGyRbuPXcH78WcBAP9+OIxBhIiokTGMEN1CapYGL25JAQBMurstRvbknDdERI2NYYSoDvnFFXj688MorzTgno7emDUkROqSiIisEsMIUS10VQY8uzYZ2ZpyBHs54z9jusFOwbcLEVFT4G9XolrM++oEDl0sgKvKDh+P6wl3x4Yt8khERLfHMEL0N+sOXsK6gxmQyYD3x0SivY+L1CUREVk1hhGivzh0oQBzd54AALw0uBPuDfG9zR5ERHSnGEaI/pBVWIapa5NQZRB4MNwfzw5oJ3VJREQ2gWGECEB5pR7PfJGEayU6dPZ3w7uPhkMm41TvRETNgWGEbJ4QAq9uP47jWRq0cLLHx2N7cKp3IqJmxDBCNm/NbxexLTkLCrkMKx7vDrWnk9QlERHZFIYRsmmJ567h37tPAQBmDQlB3/ZeEldERGR7GEbIZmUVlmHa+mToDQIjIgMw6e62UpdERGSTGEbIJt0YsFpQokOovxsW/IMDVomIpMIwQjZHCIHXtqcaB6x+NLYHHJUKqcsiIrJZDCNkc9YezMCXyZchlwHLOWCViEhyDCNkU5IuFeDNr6pnWH3l/hDcxQGrRESSYxghm5GnLcfUtcmo1As80NUPT98TLHVJREQEhhGyEboqA55dl4y8ogp08HHBu49GcMAqEZGZYBghm/D2nlM4fOk6XFV2+GhsD7ioOMMqEZG5YBghq7fjSBbW/HYRALBkVCSCvV2kLYiIiGpgGCGrdjpHi5nbjgEAnhvYHoNCfSWuiIiI/o5hhKyWtrwSz3yRhPJKA/p18MILgzpKXRIREdWCYYSsksEg8OLmo7h4rRSBHo54f3Q3KOQcsEpEZI4YRsgqffjjOew7mQulQo7/PtEdns5KqUsiIqI6MIyQ1fk1PR+Lv0sDAMwb3gURag9pCyIioltiGCGrckVThukbjsAggMd6tMLoXmqpSyIiottgGCGroasyYNq6ZONKvPNHhHFiMyIiC8AwQlZjwTenkJxRCFcHO3z4ZHc42HMlXiIiS8AwQlbh62PZ+PTXiwCAJSMj0aals7QFERFRvTGMkMVLzyvGK1urJzZ7pn87TmxGRGRhGEbIopXqqvDsuiSU6PToE+yJlwZzYjMiIkvDMEIWSwiB17en4kxuMXxcVfjPmO6wU/BHmojI0vA3N1msjb9nYtuRLCjkMvxnTDd4u6qkLomIiBqAYYQsUmqWBnN3nQAAvBzbCVHBLSWuiIiIGophhCyOpqwSz65Lhq7KgJjOPni6X7DUJRER0R1gGCGLIoTAy1uOIqOgFK1aOGLxY5GQcwE8IiKLxjBCFuWTXy7gu78sgOfuZC91SUREdIcYRshiJGdcx8JvTgMAZj/YGeGtPKQtiIiIGgXDCFmE6yU6PLcuGVUGgQfD/fFknzZSl0RERI2EYYTMnsEgELc5BdmacrT1csaCf3TlAnhERFaEYYTM3kc/ncf+tKtQ2cmx4vHucHXgOBEiImvCMEJm7feLBVj0XRoA4I2HuiA0wE3iioiIqLExjJDZulZcgenrj0BvEBgRGYDRvdRSl0RERE2AYYTMUvU4kaPI0Zajnbcz3nqY40SIiKwVwwiZpY9+Oo8fz/wxTuSJ7nBW2UldEhERNRGGETI7h/8yTmTeQ10Q4sdxIkRE1oxhhMzK9RIdpm+oHicyPDIAozhOhIjI6jGMkNkwGARe3HIUVzTlCPbiOBEiIlvBMEJm45NfLuCH03lQ2smx/PHucOE4ESIim8AwQmbhSMZ1vLO3et2ZOQ+Gcj4RIiIbwjBCktOUVWL6hiOoMggM7eqPJ6JaS10SERE1I4YRkpQQArO2HcPl62VQezpiwSMcJ0JEZGsYRkhSaw9mYM/xHNgrZFg+pjvcuO4MEZHNYRghyZzM1mL+1ycBAK/cH4IItYe0BRERkSQYRkgSJRVVeG5DMnRVBtwX4oNJd7eVuiQiIpJIg8LIihUrEBQUBAcHB0RFReHQoUP12m/jxo2QyWQYMWJEQ16WrMjcXSdw/moJ/Nwc8N5jERwnQkRkw0wOI5s2bUJcXBzmzp2L5ORkREREIDY2Fnl5ebfc7+LFi3jppZfQr1+/BhdL1mHHkSxsTboMuQx4f3QkPJ2VUpdEREQSMjmMLFmyBFOmTMHEiRMRGhqKlStXwsnJCatXr65zH71ejyeeeALz5s1DcHDwHRVMlu1ifgle234cAPB/93VAVHBLiSsiIiKpmRRGdDodkpKSEBMT8+cTyOWIiYlBYmJinfu9+eab8PHxwaRJk+r1OhUVFdBqtTUeZPl0VQZM33AEJTo9otp6Yvq9HaQuiYiIzIBJYSQ/Px96vR6+vr41tvv6+iInJ6fWfX755Rd88sknWLVqVb1fZ8GCBXB3dzc+1GoulmYN3t17GsezNPBwssey0ZFQyDlOhIiImvhumqKiIowdOxarVq2Cl5dXvfebNWsWNBqN8ZGZmdmEVVJz2H86D//75QIAYNGjEfB3d5S4IiIiMhcmrUTm5eUFhUKB3NzcGttzc3Ph5+d3U/tz587h4sWLGDZsmHGbwWCofmE7O6SlpaFdu3Y37adSqaBSqUwpjcxYrrYcL245CgCY0DcIMaG+t9mDiIhsiUlnRpRKJXr06IH4+HjjNoPBgPj4eERHR9/UPiQkBMePH0dKSorx8dBDD2HgwIFISUnh5RcboDcIvLApBQUlOoT6u2HWAyFSl0RERGbG5DXa4+LiMH78ePTs2RO9e/fGsmXLUFJSgokTJwIAxo0bh8DAQCxYsAAODg4ICwursb+HhwcA3LSdrNNHP53Db+euwdFegQ/GdIPKTiF1SUREZGZMDiOjRo3C1atXMWfOHOTk5CAyMhJ79+41DmrNyMiAXM6JXQlIzriOxd+dAQDMe6gL2vu4SFwRERGZI5kQQkhdxO1otVq4u7tDo9HAzc1N6nKoHrTllRj6wc/ILCjDsIgAfDA6krOsEhHZmPp+fvMUBjU6IQRe256KzIIytGrhiLceDmMQISKiOjGMUKPbmnQZXx3NhkIuwwdjusHNwV7qkoiIyIwxjFCjupBfgrm7TgAA4gZ1RPfWLSSuiIiIzB3DCDUaXZUBz288glKdHn2CPfFM/5vnkCEiIvo7hhFqNIv3peHY5erp3peO4nTvRERUPwwj1Ch+OZuPj348DwBY+I9wTvdORET1xjBCd+xacQXiNqcAAB6Pao37w25eGoCIiKguDCN0R4QQeOXL48grqkB7HxfMHhoqdUlERGRhGEbojqw9mIHvT+VCqZDjg9Hd4KjkdO9ERGQahhFqsLO5Rfj31ycBAK8MCUFoAGfHJSIi0zGMUIOUV+rxfxtTUFFlwD0dvTGxb5DUJRERkYViGKEGeXdvGk5d0aKlsxKLHguHnLfxEhFRAzGMkMkS0vKw+tcLAID3HguHj6uDxBUREZElYxghk+QXV+ClLccAAOOj2+DeEF+JKyIiIkvHMEL1JoTAK1uPIb+4Ah19XTDrgc5Sl0RERFaAYYTqbe3BDMSfzoPSTo4PxnSDgz1v4yUiojvHMEL1kp5XhLd2V9/GO/P+EIT48TZeIiJqHAwjdFsVVXr834YUlFca0K+DFybwNl4iImpEDCN0W0u+O4OTV7Ro4WSPxY9F8DZeIiJqVAwjdEu/pufjo5+qV+N955Fw+LjxNl4iImpcDCNUp8JSHV7cfBRA9Wq8g7twNV4iImp8DCNUKyEEXtueihxtOYK9nPH6UN7GS0RETYNhhGr1ZXIWdh+/Aju5DMtGR8JJaSd1SUREZKUYRugmGddKMXdnKgDghUEdEd7KQ9qCiIjIqjGMUA1VegNe2JyCEp0evYJa4Jn+7aQuiYiIrBzDCNXwYcI5JF26DleVHZaMjISCt/ESEVETYxgho5TMQiyLPwsAeHNEF6g9nSSuiIiIbAHDCAEASnVVeGFTCvQGgQfD/TEiMlDqkoiIyEYwjBAA4N+7T+FCfgn83R3w1oiukMl4eYaIiJoHwwgh/lQu1h/MAAAsfiwC7k72EldERES2hGHExuUXV+CVL48BACbf3RZ923tJXBEREdkahhEbJoTAzC+PIb9YhxA/V7wU20nqkoiIyAYxjNiwjb9n4vtTeVAq5Fg6KhIO9gqpSyIiIhvEMGKjLuaXYP7XJwEAL8d2Qmd/N4krIiIiW8UwYoNuzLJaqtMjOrglJt3dVuqSiIjIhjGM2KD/JpzDkYxCuDrYYdHICMg5yyoREUmIYcTGHM0sxPt/zLI6f3gYAj0cJa6IiIhsHcOIDSnT6fHC5upZVoeG+2N4ZIDUJRERETGM2JIF35zC+asl8HVT4a0RYZxllYiIzALDiI1ISMvD54mXAACLHouAh5NS4oqIiIiqMYzYgOslOvxra/UsqxP6BqFfB2+JKyIiIvoTw4iVE0Lg9R2pyCuqQDtvZ8wcEiJ1SURERDUwjFi5nSnZ2H38CuzkMs6ySkREZolhxIplF5Zh9s5UAMD/3dcB4a08pC2IiIioFgwjVspgEHhpy1EUlVchUu2BZwe0k7okIiKiWjGMWKk1v13Eb+euwcFejiUjI2Cn4KEmIiLzxE8oK5SeV4R39p4GALw2NBTB3i4SV0RERFQ3hhErU6k34IVNR1FRZcA9Hb3xZFRrqUsiIiK6JYYRK/OfH9JxPEsDd0d7vPdoOGdZJSIis8cwYkVSMguxYn86AODfI8Lg6+YgcUVERES3xzBiJcp0esRtql4E76GIAAyL4CJ4RERkGRhGrMTCb07hfH71Injzh4dJXQ4REVG9MYxYgZ/PXsVnfyyC996jEXB3spe4IiIiovpjGLFwmtJKvLylehG8cdFtcE9HLoJHRESWhWHEwr3x1QnkaMvR1ouL4BERkWViGLFge45fwfYjWZDLgMUjI+CktJO6JCIiIpM1KIysWLECQUFBcHBwQFRUFA4dOlRn21WrVqFfv35o0aIFWrRogZiYmFu2p/rJKyrHa9uPAwCeHdAe3Vu3kLgiIiKihjE5jGzatAlxcXGYO3cukpOTERERgdjYWOTl5dXaPiEhAWPGjMH+/fuRmJgItVqNwYMHIysr646Lt1VCCLy67Tiul1Yi1N8N/3dfB6lLIiIiajCZEEKYskNUVBR69eqF5cuXAwAMBgPUajWmT5+OmTNn3nZ/vV6PFi1aYPny5Rg3bly9XlOr1cLd3R0ajQZubm6mlGuVNv+eiX99eQxKhRy7pt+FED/+mxARkfmp7+e3SWdGdDodkpKSEBMT8+cTyOWIiYlBYmJivZ6jtLQUlZWV8PT0rLNNRUUFtFptjQdVyywoxbyvTgAAXhzckUGEiIgsnklhJD8/H3q9Hr6+vjW2+/r6Iicnp17P8corryAgIKBGoPm7BQsWwN3d3fhQq9WmlGm1DAaBl7YcRYlOj55tWmByv2CpSyIiIrpjzXo3zcKFC7Fx40Zs374dDg51r5sya9YsaDQa4yMzM7MZqzRfn/52EQcvFMBJqcDikRFQyLkIHhERWT6T7gX18vKCQqFAbm5uje25ubnw8/O75b6LFi3CwoUL8f333yM8PPyWbVUqFVQqlSmlWb30vGK8u/c0AODVBzqjTUtniSsiIiJqHCadGVEqlejRowfi4+ON2wwGA+Lj4xEdHV3nfu+++y7mz5+PvXv3omfPng2v1kZV6Q14cXMKKqoMuKejN56Iai11SURERI3G5Fmy4uLiMH78ePTs2RO9e/fGsmXLUFJSgokTJwIAxo0bh8DAQCxYsAAA8M4772DOnDlYv349goKCjGNLXFxc4OLi0ohdsV7/TTiHo5c1cHOww7uPhEMm4+UZIiKyHiaHkVGjRuHq1auYM2cOcnJyEBkZib179xoHtWZkZEAu//OEy4cffgidTodHH320xvPMnTsXb7zxxp1VbwNSszT4IP4sAODN4WHwc697rA0REZElMnmeESnY6jwjFVV6PPSfX5GWW4QhYX747xPdeVaEiIgsRpPMM0LNa+m+s0jLLYKXixL/HhHGIEJERFaJYcRMJV0qwMc/nQMAvPVwV7R04d1FRERknRhGzFCprgovbj4KgwD+0T0QsV1ufds0ERGRJWMYMUPvfHMaF6+Vwt/dAXOHdZG6HCIioibFMGJmfk3Px2eJlwAA7zwSDndHe4krIiIialoMI2ZEW16Jl7ccBQA82ac17unoLXFFRERETY9hxIzM/+oksjXlaO3phFlDOktdDhERUbNgGDET35/MxZaky5DJgMUjI+CsMnk+OiIiIovEMGIGrpfoMHPbcQDAlH7B6BXkKXFFREREzYdhxAzM2XUC+cUVaO/jgrhBHaUuh4iIqFkxjEjs62PZ+OpoNhRyGZaMjICDvULqkoiIiJoVw4iE8orKMXtHKgBg2oB2CG/lIW1BREREEmAYkYgQAq9uS8X10kqE+rvhuXs7SF0SERGRJBhGJLItOQvfn8qFvUKGxSMjoLTjoSAiItvET0AJXNGU4Y2vTgAAZsR0RGf/updVJiIisnYMI81MCIF/bT2GovIqRKg98M97gqUuiYiISFIMI81sw6FM/Hw2Hyo7ORY/FgE7BQ8BERHZNn4SNqPMglK8tfskAODl2E5o7+MicUVERETSYxhpJgaDwMtbj6JEp0fvIE88dVdbqUsiIiIyCwwjzeTzxIs4cL4AjvYKvPdYOORymdQlERERmQWGkWZw/moxFu49DQB49YEQtGnpLHFFRERE5oNhpInpDQIvbTmK8koD7mrfEk9EtZG6JCIiIrPCMNLE/vfzeSRnFMJFZYd3H43g5RkiIqK/YRhpQmdzi7B43xkAwOwHOyPQw1HiioiIiMwPw0gTqdIb8NKWo9BVGTCgkzdG9lRLXRIREZFZYhhpIit/PIejlzVwc7DDwn+EQybj5RkiIqLaMIw0gZPZWrwffxYA8MZDXeDn7iBxRUREROaLYaSR6aqqL89U6gViOvvi4W6BUpdERERk1hhGGtny/ek4eUULDyd7vP2PMF6eISIiug2GkUaUmqXBiv3pAID5w8Pg48rLM0RERLfDMNJIKqr0iNucAr1B4IGufngw3F/qkoiIiCwCw0gjef/7sziTW4yWzkrMH87LM0RERPXFMNIIUjILsfLHcwCAtx4OQ0sXlcQVERERWQ6GkTtUXqnHi5tTYBDAQxEBuD+Ml2eIiIhMwTByh5bsO4NzV0vg7arCm8O7SF0OERGRxWEYuQNJlwqw6ufzAIAFD3eFh5NS4oqIiIgsD8NIA5Xp9HhpyzEIATzSvRViQn2lLomIiMgiMYw00HvfpuFCfgl83VSYMyxU6nKIiIgsFsNIAxw8fw2f/nYBALDwkXC4O9pLXBEREZHlYhgxUamuCi9vrb48M6qnGgM7+UhdEhERkUVjGDHRwm9OI6OgFAHuDnj9wc5Sl0NERGTxGEZM8Ft6Pj5PvAQAePfRCLg68PIMERHRnWIYqafiiurLMwDwRFRr3N3BS+KKiIiIrAPDSD29vecUsgrL0KqFI2Y9wMszREREjYVhpB5+OnMV6w9mAADefTQcLio7iSsiIiKyHgwjt6Etr8TML6svz4yPboO+7Xh5hoiIqDExjNzGW1+fQramHK09nfDKkBCpyyEiIrI6DCO3sD8tD5sOZ0ImA957NBxOSl6eISIiamwMI3XQlFVi1pfHAQAT+7ZFVHBLiSsiIiKyTgwjdZj/9UnkaMvR1ssZL8d2krocIiIiq8UwUov4U7nYmnQZMhmw6LFwOCoVUpdERERktRhG/qawVIdZ26ovz0y+uy16tPGUuCIiIiLrxjDyN/O+Oom8ogoEezvjxcG8PENERNTUGEb+4rsTOdh+JAtyGbDosQg42PPyDBERUVNjGPnD9RIdXt2eCgCYck8wurduIXFFREREtoFh5A9zd51AfnEFOvi44IWYjlKXQ0REZDMaFEZWrFiBoKAgODg4ICoqCocOHbpl+y1btiAkJAQODg7o2rUr9uzZ06Bim8o3x69g19FsKOQyXp4hIiJqZiaHkU2bNiEuLg5z585FcnIyIiIiEBsbi7y8vFrb//bbbxgzZgwmTZqEI0eOYMSIERgxYgRSU1PvuPjGcK24Aq/vqK5lav92iFB7SFsQERGRjZEJIYQpO0RFRaFXr15Yvnw5AMBgMECtVmP69OmYOXPmTe1HjRqFkpISfP3118Ztffr0QWRkJFauXFmv19RqtXB3d4dGo4Gbm5sp5d7WtPXJ2H3sCjr5umLX9LugsuNZESIiosZQ389vk86M6HQ6JCUlISYm5s8nkMsRExODxMTEWvdJTEys0R4AYmNj62wPABUVFdBqtTUeTeHrY9nYfewKFHIZFo+MYBAhIiKSgElhJD8/H3q9Hr6+vjW2+/r6Iicnp9Z9cnJyTGoPAAsWLIC7u7vxoVarTSmzXsor9Xhj1wkAwLSB7REW6N7or0FERES3Z5Z308yaNQsajcb4yMzMbPTXcLBXYOWTPTAkzA/PDWzf6M9PRERE9WNnSmMvLy8oFArk5ubW2J6bmws/P79a9/Hz8zOpPQCoVCqoVCpTSmuQnkGe6BnE6d6JiIikZNKZEaVSiR49eiA+Pt64zWAwID4+HtHR0bXuEx0dXaM9AOzbt6/O9kRERGRbTDozAgBxcXEYP348evbsid69e2PZsmUoKSnBxIkTAQDjxo1DYGAgFixYAAB4/vnn0b9/fyxevBhDhw7Fxo0bcfjwYXz88ceN2xMiIiKySCaHkVGjRuHq1auYM2cOcnJyEBkZib179xoHqWZkZEAu//OES9++fbF+/Xq8/vrrePXVV9GhQwfs2LEDYWFhjdcLIiIislgmzzMihaacZ4SIiIiaRpPMM0JERETU2BhGiIiISFIMI0RERCQphhEiIiKSFMMIERERSYphhIiIiCTFMEJERESSYhghIiIiSTGMEBERkaRMng5eCjcmidVqtRJXQkRERPV143P7dpO9W0QYKSoqAgCo1WqJKyEiIiJTFRUVwd3dvc7vW8TaNAaDAdnZ2XB1dYVMJmu059VqtVCr1cjMzLTaNW+svY/sn+Wz9j6yf5bP2vvYlP0TQqCoqAgBAQE1FtH9O4s4MyKXy9GqVasme343Nzer/AH7K2vvI/tn+ay9j+yf5bP2PjZV/251RuQGDmAlIiIiSTGMEBERkaRsOoyoVCrMnTsXKpVK6lKajLX3kf2zfNbeR/bP8ll7H82hfxYxgJWIiIisl02fGSEiIiLpMYwQERGRpBhGiIiISFIMI0RERCQpqwsjK1asQFBQEBwcHBAVFYVDhw7dsv2WLVsQEhICBwcHdO3aFXv27KnxfSEE5syZA39/fzg6OiImJgZnz55tyi7ckin9W7VqFfr164cWLVqgRYsWiImJuan9hAkTIJPJajzuv//+pu7GLZnSxzVr1txUv4ODQ402lnwMBwwYcFP/ZDIZhg4damxjTsfwp59+wrBhwxAQEACZTIYdO3bcdp+EhAR0794dKpUK7du3x5o1a25qY+r7uqmY2r9t27Zh0KBB8Pb2hpubG6Kjo/Htt9/WaPPGG2/cdPxCQkKasBe3ZmofExISav0ZzcnJqdHOUo9hbe8vmUyGLl26GNuY0zFcsGABevXqBVdXV/j4+GDEiBFIS0u77X5SfxZaVRjZtGkT4uLiMHfuXCQnJyMiIgKxsbHIy8urtf1vv/2GMWPGYNKkSThy5AhGjBiBESNGIDU11djm3XffxQcffICVK1fi4MGDcHZ2RmxsLMrLy5urW0am9i8hIQFjxozB/v37kZiYCLVajcGDByMrK6tGu/vvvx9XrlwxPjZs2NAc3amVqX0EqmcN/Gv9ly5dqvF9Sz6G27Ztq9G31NRUKBQKPPbYYzXamcsxLCkpQUREBFasWFGv9hcuXMDQoUMxcOBApKSkYMaMGZg8eXKND+yG/Ew0FVP799NPP2HQoEHYs2cPkpKSMHDgQAwbNgxHjhyp0a5Lly41jt8vv/zSFOXXi6l9vCEtLa1GH3x8fIzfs+Rj+P7779foV2ZmJjw9PW96D5rLMfzxxx8xbdo0HDhwAPv27UNlZSUGDx6MkpKSOvcxi89CYUV69+4tpk2bZvxar9eLgIAAsWDBglrbjxw5UgwdOrTGtqioKPHPf/5TCCGEwWAQfn5+4r333jN+v7CwUKhUKrFhw4Ym6MGtmdq/v6uqqhKurq7is88+M24bP368GD58eGOX2mCm9vHTTz8V7u7udT6ftR3DpUuXCldXV1FcXGzcZm7H8AYAYvv27bds869//Ut06dKlxrZRo0aJ2NhY49d3+m/WVOrTv9qEhoaKefPmGb+eO3euiIiIaLzCGlF9+rh//34BQFy/fr3ONtZ0DLdv3y5kMpm4ePGicZs5H8O8vDwBQPz44491tjGHz0KrOTOi0+mQlJSEmJgY4za5XI6YmBgkJibWuk9iYmKN9gAQGxtrbH/hwgXk5OTUaOPu7o6oqKg6n7OpNKR/f1daWorKykp4enrW2J6QkAAfHx906tQJU6dOxbVr1xq19vpqaB+Li4vRpk0bqNVqDB8+HCdOnDB+z9qO4SeffILRo0fD2dm5xnZzOYamut17sDH+zcyJwWBAUVHRTe/Bs2fPIiAgAMHBwXjiiSeQkZEhUYUNFxkZCX9/fwwaNAi//vqrcbu1HcNPPvkEMTExaNOmTY3t5noMNRoNANz0M/dX5vBZaDVhJD8/H3q9Hr6+vjW2+/r63nTt8oacnJxbtr/xpynP2VQa0r+/e+WVVxAQEFDjB+r+++/H559/jvj4eLzzzjv48ccfMWTIEOj1+katvz4a0sdOnTph9erV2LlzJ9auXQuDwYC+ffvi8uXLAKzrGB46dAipqamYPHlyje3mdAxNVdd7UKvVoqysrFF+7s3JokWLUFxcjJEjRxq3RUVFYc2aNdi7dy8+/PBDXLhwAf369UNRUZGEldafv78/Vq5ciS+//BJffvkl1Go1BgwYgOTkZACN87vLXGRnZ+Obb7656T1orsfQYDBgxowZuOuuuxAWFlZnO3P4LLSIVXvpzi1cuBAbN25EQkJCjQGeo0ePNv69a9euCA8PR7t27ZCQkID77rtPilJNEh0djejoaOPXffv2RefOnfHRRx9h/vz5ElbW+D755BN07doVvXv3rrHd0o+hrVi/fj3mzZuHnTt31hhPMWTIEOPfw8PDERUVhTZt2mDz5s2YNGmSFKWapFOnTujUqZPx6759++LcuXNYunQpvvjiCwkra3yfffYZPDw8MGLEiBrbzfUYTps2DampqZKOQaovqzkz4uXlBYVCgdzc3Brbc3Nz4efnV+s+fn5+t2x/409TnrOpNKR/NyxatAgLFy7Ed999h/Dw8Fu2DQ4OhpeXF9LT0++4ZlPdSR9vsLe3R7du3Yz1W8sxLCkpwcaNG+v1i03KY2iqut6Dbm5ucHR0bJSfCXOwceNGTJ48GZs3b77pdPjfeXh4oGPHjhZx/OrSu3dvY/3WcgyFEFi9ejXGjh0LpVJ5y7bmcAyfe+45fP3119i/fz9atWp1y7bm8FloNWFEqVSiR48eiI+PN24zGAyIj4+v8T/nv4qOjq7RHgD27dtnbN+2bVv4+fnVaKPVanHw4ME6n7OpNKR/QPUI6Pnz52Pv3r3o2bPnbV/n8uXLuHbtGvz9/RulblM0tI9/pdfrcfz4cWP91nAMgerb7ioqKvDkk0/e9nWkPIamut17sDF+JqS2YcMGTJw4ERs2bKhxS3ZdiouLce7cOYs4fnVJSUkx1m8NxxCovkslPT29Xv8hkPIYCiHw3HPPYfv27fjhhx/Qtm3b2+5jFp+FjTIM1kxs3LhRqFQqsWbNGnHy5Enx9NNPCw8PD5GTkyOEEGLs2LFi5syZxva//vqrsLOzE4sWLRKnTp0Sc+fOFfb29uL48ePGNgsXLhQeHh5i586d4tixY2L48OGibdu2oqyszOz7t3DhQqFUKsXWrVvFlStXjI+ioiIhhBBFRUXipZdeEomJieLChQvi+++/F927dxcdOnQQ5eXlzd6/hvRx3rx54ttvvxXnzp0TSUlJYvTo0cLBwUGcOHHC2MaSj+ENd999txg1atRN283tGBYVFYkjR46II0eOCABiyZIl4siRI+LSpUtCCCFmzpwpxo4da2x//vx54eTkJF5++WVx6tQpsWLFCqFQKMTevXuNbW73b2bO/Vu3bp2ws7MTK1asqPEeLCwsNLZ58cUXRUJCgrhw4YL49ddfRUxMjPDy8hJ5eXnN3j8hTO/j0qVLxY4dO8TZs2fF8ePHxfPPPy/kcrn4/vvvjW0s+Rje8OSTT4qoqKhan9OcjuHUqVOFu7u7SEhIqPEzV1paamxjjp+FVhVGhBDiP//5j2jdurVQKpWid+/e4sCBA8bv9e/fX4wfP75G+82bN4uOHTsKpVIpunTpInbv3l3j+waDQcyePVv4+voKlUol7rvvPpGWltYcXamVKf1r06aNAHDTY+7cuUIIIUpLS8XgwYOFt7e3sLe3F23atBFTpkyR5BfEX5nSxxkzZhjb+vr6igceeEAkJyfXeD5LPoZCCHH69GkBQHz33Xc3PZe5HcMbt3n+/XGjT+PHjxf9+/e/aZ/IyEihVCpFcHCw+PTTT2963lv9mzUnU/vXv3//W7YXovpWZn9/f6FUKkVgYKAYNWqUSE9Pb96O/YWpfXznnXdEu3bthIODg/D09BQDBgwQP/zww03Pa6nHUIjq21gdHR3Fxx9/XOtzmtMxrK1vAGq8r8zxs1D2R/FEREREkrCaMSNERERkmRhGiIiISFIMI0RERCQphhEiIiKSFMMIERERSYphhIiIiCTFMEJERESSYhghIiIiSTGMEBERkaQYRoiIiEhSDCNEREQkKYYRIiIiktT/A+QHoYD4BoOfAAAAAElFTkSuQmCC',\n",
       "  'text/plain': '<Figure size 640x480 with 1 Axes>'},\n",
       " 'metadata': {},\n",
       " 'output_type': 'display_data'}"
      ]
     },
     "execution_count": 52,
     "metadata": {},
     "output_type": "execute_result"
    }
   ],
   "source": [
    "cells[14]['outputs'][1]"
   ]
  },
  {
   "cell_type": "markdown",
   "metadata": {},
   "source": [
    "Output type is display_data probably meaning that plot is being displayed on the screen. Can I recreate the plot with the text?"
   ]
  },
  {
   "cell_type": "code",
   "execution_count": 57,
   "metadata": {},
   "outputs": [
    {
     "data": {
      "text/plain": [
       "<matplotlib.image.AxesImage at 0x7fd8b9b9d220>"
      ]
     },
     "execution_count": 57,
     "metadata": {},
     "output_type": "execute_result"
    },
    {
     "data": {
      "image/png": "[encoded data removed]",
      "text/plain": [
       "<Figure size 640x480 with 1 Axes>"
      ]
     },
     "metadata": {},
     "output_type": "display_data"
    }
   ],
   "source": [
    "import base64\n",
    "import io\n",
    "from PIL import Image\n",
    "import matplotlib.pyplot as plt\n",
    "\n",
    "image_data_encoded = cells[14]['outputs'][1]['data']['image/png']\n",
    "image_data = base64.b64decode(image_data_encoded)\n",
    "image = Image.open(io.BytesIO(image_data))\n",
    "plt.imshow(image)"
   ]
  },
  {
   "cell_type": "code",
   "execution_count": null,
   "metadata": {},
   "outputs": [],
   "source": []
  }
 ],
 "metadata": {
  "kernelspec": {
   "display_name": "jnbformat",
   "language": "python",
   "name": "python3"
  },
  "language_info": {
   "codemirror_mode": {
    "name": "ipython",
    "version": 3
   },
   "file_extension": ".py",
   "mimetype": "text/x-python",
   "name": "python",
   "nbconvert_exporter": "python",
   "pygments_lexer": "ipython3",
   "version": "3.12.4"
  }
 },
 "nbformat": 4,
 "nbformat_minor": 2
}
