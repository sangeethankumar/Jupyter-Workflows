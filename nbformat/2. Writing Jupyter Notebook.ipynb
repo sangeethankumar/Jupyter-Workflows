{
 "cells": [
  {
   "cell_type": "code",
   "execution_count": 1,
   "metadata": {},
   "outputs": [],
   "source": [
    "import nbformat"
   ]
  },
  {
   "cell_type": "code",
   "execution_count": 2,
   "metadata": {},
   "outputs": [
    {
     "data": {
      "text/plain": [
       "{'id': 'ce96c138',\n",
       " 'cell_type': 'markdown',\n",
       " 'source': '# This is a title',\n",
       " 'metadata': {}}"
      ]
     },
     "execution_count": 2,
     "metadata": {},
     "output_type": "execute_result"
    }
   ],
   "source": [
    "# Make a markdown cell\n",
    "markdown_text = \"# This is a title\"\n",
    "markdown_cell = nbformat.v4.new_markdown_cell(markdown_text)\n",
    "markdown_cell"
   ]
  },
  {
   "cell_type": "code",
   "execution_count": 3,
   "metadata": {},
   "outputs": [
    {
     "data": {
      "text/plain": [
       "{'id': 'bf8fcc07',\n",
       " 'cell_type': 'code',\n",
       " 'metadata': {},\n",
       " 'execution_count': None,\n",
       " 'source': ' \\na = 10\\nb = 100\\n',\n",
       " 'outputs': []}"
      ]
     },
     "execution_count": 3,
     "metadata": {},
     "output_type": "execute_result"
    }
   ],
   "source": [
    "# Make a code cell\n",
    "code = \"\"\" \n",
    "a = 10\n",
    "b = 100\n",
    "\"\"\"\n",
    "code_cell = nbformat.v4.new_code_cell(code)\n",
    "code_cell"
   ]
  },
  {
   "cell_type": "code",
   "execution_count": 4,
   "metadata": {},
   "outputs": [],
   "source": [
    "cells = [markdown_cell, code_cell]"
   ]
  },
  {
   "cell_type": "code",
   "execution_count": 5,
   "metadata": {},
   "outputs": [],
   "source": [
    "# make a new notebook\n",
    "nb = nbformat.v4.new_notebook()\n",
    "nb.cells.extend(cells)\n",
    "with open('writing_notebook.ipynb', 'w') as f:\n",
    "    nbformat.write(nb, f)"
   ]
  }
 ],
 "metadata": {
  "kernelspec": {
   "display_name": "jnbformat",
   "language": "python",
   "name": "python3"
  },
  "language_info": {
   "codemirror_mode": {
    "name": "ipython",
    "version": 3
   },
   "file_extension": ".py",
   "mimetype": "text/x-python",
   "name": "python",
   "nbconvert_exporter": "python",
   "pygments_lexer": "ipython3",
   "version": "3.12.4"
  }
 },
 "nbformat": 4,
 "nbformat_minor": 2
}
