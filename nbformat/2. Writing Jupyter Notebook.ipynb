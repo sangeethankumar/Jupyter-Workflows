{
 "cells": [
  {
   "cell_type": "code",
   "execution_count": 1,
   "metadata": {},
   "outputs": [],
   "source": [
    "import nbformat"
   ]
  },
  {
   "cell_type": "markdown",
   "metadata": {},
   "source": [
    "# Writing a new notebook"
   ]
  },
  {
   "cell_type": "code",
   "execution_count": 2,
   "metadata": {},
   "outputs": [
    {
     "data": {
      "text/plain": [
       "{'id': 'ebc42772',\n",
       " 'cell_type': 'markdown',\n",
       " 'source': '# This is a title',\n",
       " 'metadata': {}}"
      ]
     },
     "execution_count": 2,
     "metadata": {},
     "output_type": "execute_result"
    }
   ],
   "source": [
    "# Make a markdown cell\n",
    "markdown_text = \"# This is a title\"\n",
    "markdown_cell = nbformat.v4.new_markdown_cell(markdown_text)\n",
    "markdown_cell"
   ]
  },
  {
   "cell_type": "code",
   "execution_count": 3,
   "metadata": {},
   "outputs": [
    {
     "data": {
      "text/plain": [
       "{'id': '4314c2f4',\n",
       " 'cell_type': 'code',\n",
       " 'metadata': {},\n",
       " 'execution_count': None,\n",
       " 'source': ' \\na = 10\\nb = 100\\n',\n",
       " 'outputs': []}"
      ]
     },
     "execution_count": 3,
     "metadata": {},
     "output_type": "execute_result"
    }
   ],
   "source": [
    "# Make a code cell\n",
    "code = \"\"\" \n",
    "a = 10\n",
    "b = 100\n",
    "\"\"\"\n",
    "code_cell = nbformat.v4.new_code_cell(code)\n",
    "code_cell"
   ]
  },
  {
   "cell_type": "code",
   "execution_count": 4,
   "metadata": {},
   "outputs": [],
   "source": [
    "cells = [markdown_cell, code_cell]"
   ]
  },
  {
   "cell_type": "code",
   "execution_count": 5,
   "metadata": {},
   "outputs": [],
   "source": [
    "# make a new notebook\n",
    "nb = nbformat.v4.new_notebook()\n",
    "nb.cells.extend(cells)\n",
    "with open('output/writing_notebook.ipynb', 'w') as f:\n",
    "    nbformat.write(nb, f)"
   ]
  },
  {
   "cell_type": "markdown",
   "metadata": {},
   "source": [
    "# Manipulating an existing notebook"
   ]
  },
  {
   "cell_type": "code",
   "execution_count": 6,
   "metadata": {},
   "outputs": [],
   "source": [
    "# Read notebook\n",
    "with open('output/writing_notebook.ipynb', 'r') as f:\n",
    "    nb = nbformat.read(f, as_version=4)"
   ]
  },
  {
   "cell_type": "code",
   "execution_count": 7,
   "metadata": {},
   "outputs": [
    {
     "data": {
      "text/plain": [
       "'# This is a title'"
      ]
     },
     "execution_count": 7,
     "metadata": {},
     "output_type": "execute_result"
    }
   ],
   "source": [
    "# Can you change a markdown cell?\n",
    "nb.cells[0].source "
   ]
  },
  {
   "cell_type": "code",
   "execution_count": 8,
   "metadata": {},
   "outputs": [],
   "source": [
    "nb.cells[0].source = '# This is an edited title'"
   ]
  },
  {
   "cell_type": "code",
   "execution_count": 9,
   "metadata": {},
   "outputs": [
    {
     "data": {
      "text/plain": [
       "[{'cell_type': 'markdown',\n",
       "  'id': 'ebc42772',\n",
       "  'metadata': {},\n",
       "  'source': '# This is an edited title'},\n",
       " {'cell_type': 'code',\n",
       "  'execution_count': None,\n",
       "  'id': '4314c2f4',\n",
       "  'metadata': {},\n",
       "  'outputs': [],\n",
       "  'source': ' \\na = 10\\nb = 100\\n'}]"
      ]
     },
     "execution_count": 9,
     "metadata": {},
     "output_type": "execute_result"
    }
   ],
   "source": [
    "nb.cells"
   ]
  },
  {
   "cell_type": "code",
   "execution_count": 10,
   "metadata": {},
   "outputs": [],
   "source": [
    "# writing in same notebook\n",
    "with open('output/writing_notebook.ipynb', 'w') as f:\n",
    "    nbformat.write(nb, f)"
   ]
  },
  {
   "cell_type": "code",
   "execution_count": 11,
   "metadata": {},
   "outputs": [],
   "source": [
    "# Can you edit a code cell\n",
    "nb.cells[1].source = '\\na=5\\nb=10\\n'"
   ]
  },
  {
   "cell_type": "code",
   "execution_count": 12,
   "metadata": {},
   "outputs": [
    {
     "data": {
      "text/plain": [
       "[{'cell_type': 'markdown',\n",
       "  'id': 'ebc42772',\n",
       "  'metadata': {},\n",
       "  'source': '# This is an edited title'},\n",
       " {'cell_type': 'code',\n",
       "  'execution_count': None,\n",
       "  'id': '4314c2f4',\n",
       "  'metadata': {},\n",
       "  'outputs': [],\n",
       "  'source': '\\na=5\\nb=10\\n'}]"
      ]
     },
     "execution_count": 12,
     "metadata": {},
     "output_type": "execute_result"
    }
   ],
   "source": [
    "nb.cells"
   ]
  },
  {
   "cell_type": "code",
   "execution_count": 13,
   "metadata": {},
   "outputs": [],
   "source": [
    "# writing in same notebook\n",
    "with open('output/writing_notebook.ipynb', 'w') as f:\n",
    "    nbformat.write(nb, f)"
   ]
  }
 ],
 "metadata": {
  "kernelspec": {
   "display_name": "jnbformat",
   "language": "python",
   "name": "python3"
  },
  "language_info": {
   "codemirror_mode": {
    "name": "ipython",
    "version": 3
   },
   "file_extension": ".py",
   "mimetype": "text/x-python",
   "name": "python",
   "nbconvert_exporter": "python",
   "pygments_lexer": "ipython3",
   "version": "3.12.4"
  }
 },
 "nbformat": 4,
 "nbformat_minor": 2
}
