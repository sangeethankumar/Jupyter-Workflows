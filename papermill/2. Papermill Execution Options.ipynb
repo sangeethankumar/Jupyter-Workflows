{
 "cells": [
  {
   "cell_type": "code",
   "execution_count": 1,
   "metadata": {},
   "outputs": [],
   "source": [
    "import papermill as pm\n",
    "from pathlib import Path"
   ]
  },
  {
   "cell_type": "code",
   "execution_count": 2,
   "metadata": {},
   "outputs": [],
   "source": [
    "# making output directory\n",
    "Path('outputs').mkdir(exist_ok=True)"
   ]
  },
  {
   "cell_type": "code",
   "execution_count": 3,
   "metadata": {},
   "outputs": [],
   "source": [
    "params = {\n",
    "    'tmin': 10,\n",
    "    'tmax': 100,\n",
    "    'npts': 1000\n",
    "}"
   ]
  },
  {
   "cell_type": "code",
   "execution_count": 4,
   "metadata": {},
   "outputs": [],
   "source": [
    "fin = 'inputs/papermill_executions.ipynb'"
   ]
  },
  {
   "cell_type": "code",
   "execution_count": 5,
   "metadata": {},
   "outputs": [
    {
     "name": "stderr",
     "output_type": "stream",
     "text": [
      "/home/gitpod/miniconda/envs/jpapermill/lib/python3.12/site-packages/tqdm/auto.py:21: TqdmWarning: IProgress not found. Please update jupyter and ipywidgets. See https://ipywidgets.readthedocs.io/en/stable/user_install.html\n",
      "  from .autonotebook import tqdm as notebook_tqdm\n",
      "Executing: 100%|██████████| 5/5 [00:01<00:00,  3.19cell/s]\n"
     ]
    }
   ],
   "source": [
    "# with default\n",
    "fout = 'outputs/default.ipynb'\n",
    "pm.execute_notebook(\n",
    "    fin,\n",
    "    fout,\n",
    "    params\n",
    ");\n",
    "\n",
    "## shows progress bar\n",
    "## executed notebook\n",
    "## all inputs visible\n",
    "## shows an error"
   ]
  },
  {
   "cell_type": "code",
   "execution_count": 6,
   "metadata": {},
   "outputs": [],
   "source": [
    "# no progress bar\n",
    "\n",
    "fout = 'outputs/no_progress_bar.ipynb'\n",
    "pm.execute_notebook(\n",
    "    fin,\n",
    "    fout,\n",
    "    params,\n",
    "    progress_bar=False\n",
    ");"
   ]
  },
  {
   "cell_type": "code",
   "execution_count": 7,
   "metadata": {},
   "outputs": [],
   "source": [
    "# prepare only\n",
    "\n",
    "fout = 'outputs/prepare_only.ipynb'\n",
    "pm.execute_notebook(\n",
    "    fin,\n",
    "    fout,\n",
    "    params,\n",
    "    prepare_only=True\n",
    ");\n",
    "\n",
    "# Does not execute the parameterized notebook \n",
    "# If the input notebook is executed, it keeps original outputs"
   ]
  }
 ],
 "metadata": {
  "kernelspec": {
   "display_name": "jpapermill",
   "language": "python",
   "name": "python3"
  },
  "language_info": {
   "codemirror_mode": {
    "name": "ipython",
    "version": 3
   },
   "file_extension": ".py",
   "mimetype": "text/x-python",
   "name": "python",
   "nbconvert_exporter": "python",
   "pygments_lexer": "ipython3",
   "version": "3.12.4"
  }
 },
 "nbformat": 4,
 "nbformat_minor": 2
}
