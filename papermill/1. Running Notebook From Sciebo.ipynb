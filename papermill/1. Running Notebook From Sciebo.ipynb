{
 "cells": [
  {
   "cell_type": "code",
   "execution_count": 1,
   "metadata": {},
   "outputs": [],
   "source": [
    "from dotenv import load_dotenv\n",
    "import papermill as pm\n",
    "import os"
   ]
  },
  {
   "cell_type": "markdown",
   "metadata": {},
   "source": [
    "Loading url to output directory in sciebo"
   ]
  },
  {
   "cell_type": "code",
   "execution_count": 2,
   "metadata": {},
   "outputs": [
    {
     "data": {
      "text/plain": [
       "True"
      ]
     },
     "execution_count": 2,
     "metadata": {},
     "output_type": "execute_result"
    }
   ],
   "source": [
    "load_dotenv('.env')"
   ]
  },
  {
   "cell_type": "code",
   "execution_count": 3,
   "metadata": {},
   "outputs": [],
   "source": [
    "# setting parameters\n",
    "params = {\n",
    "    'a': 50,\n",
    "    'b': 2\n",
    "}"
   ]
  },
  {
   "cell_type": "code",
   "execution_count": 4,
   "metadata": {},
   "outputs": [
    {
     "name": "stderr",
     "output_type": "stream",
     "text": [
      "c:\\Users\\sangeetha\\anaconda3\\envs\\jpapermill\\Lib\\site-packages\\papermill\\iorw.py:149: UserWarning: the file is not specified with any extension : download\n",
      "  warnings.warn(f\"the file is not specified with any extension : {os.path.basename(path)}\")\n",
      "c:\\Users\\sangeetha\\anaconda3\\envs\\jpapermill\\Lib\\site-packages\\tqdm\\auto.py:21: TqdmWarning: IProgress not found. Please update jupyter and ipywidgets. See https://ipywidgets.readthedocs.io/en/stable/user_install.html\n",
      "  from .autonotebook import tqdm as notebook_tqdm\n",
      "Executing: 100%|██████████| 5/5 [00:01<00:00,  3.37cell/s]\n"
     ]
    },
    {
     "data": {
      "text/plain": [
       "{'cells': [{'cell_type': 'code',\n",
       "   'execution_count': 1,\n",
       "   'metadata': {'tags': ['parameters'],\n",
       "    'papermill': {'exception': False,\n",
       "     'start_time': '2024-08-08T14:40:39.891975',\n",
       "     'end_time': '2024-08-08T14:40:39.902761',\n",
       "     'duration': 0.010786,\n",
       "     'status': 'completed'},\n",
       "    'execution': {'iopub.status.busy': '2024-08-08T14:40:39.896925Z',\n",
       "     'iopub.execute_input': '2024-08-08T14:40:39.896925Z',\n",
       "     'shell.execute_reply': '2024-08-08T14:40:39.901413Z',\n",
       "     'iopub.status.idle': '2024-08-08T14:40:39.901413Z'}},\n",
       "   'outputs': [],\n",
       "   'source': 'a = 10\\nb = 100',\n",
       "   'id': '0d8bef13'},\n",
       "  {'id': '899ff57e',\n",
       "   'cell_type': 'code',\n",
       "   'metadata': {'tags': ['injected-parameters'],\n",
       "    'papermill': {'exception': False,\n",
       "     'start_time': '2024-08-08T14:40:39.904765',\n",
       "     'end_time': '2024-08-08T14:40:39.909291',\n",
       "     'duration': 0.004526,\n",
       "     'status': 'completed'},\n",
       "    'execution': {'iopub.status.busy': '2024-08-08T14:40:39.906766Z',\n",
       "     'iopub.execute_input': '2024-08-08T14:40:39.906766Z',\n",
       "     'iopub.status.idle': '2024-08-08T14:40:39.909291Z',\n",
       "     'shell.execute_reply': '2024-08-08T14:40:39.909291Z'}},\n",
       "   'execution_count': 2,\n",
       "   'source': '# Parameters\\na = 50\\nb = 2\\n',\n",
       "   'outputs': []},\n",
       "  {'cell_type': 'code',\n",
       "   'execution_count': 3,\n",
       "   'metadata': {'tags': [],\n",
       "    'papermill': {'exception': False,\n",
       "     'start_time': '2024-08-08T14:40:39.911552',\n",
       "     'end_time': '2024-08-08T14:40:39.918434',\n",
       "     'duration': 0.006882,\n",
       "     'status': 'completed'},\n",
       "    'execution': {'iopub.status.busy': '2024-08-08T14:40:39.912558Z',\n",
       "     'iopub.execute_input': '2024-08-08T14:40:39.913578Z',\n",
       "     'iopub.status.idle': '2024-08-08T14:40:39.917429Z',\n",
       "     'shell.execute_reply': '2024-08-08T14:40:39.917429Z'}},\n",
       "   'outputs': [{'output_type': 'execute_result',\n",
       "     'metadata': {},\n",
       "     'data': {'text/plain': '50'},\n",
       "     'execution_count': 3}],\n",
       "   'source': 'a',\n",
       "   'id': 'b6f94207'},\n",
       "  {'cell_type': 'code',\n",
       "   'execution_count': 4,\n",
       "   'metadata': {'tags': [],\n",
       "    'papermill': {'exception': False,\n",
       "     'start_time': '2024-08-08T14:40:39.919599',\n",
       "     'end_time': '2024-08-08T14:40:39.926300',\n",
       "     'duration': 0.006701,\n",
       "     'status': 'completed'},\n",
       "    'execution': {'iopub.status.busy': '2024-08-08T14:40:39.922604Z',\n",
       "     'iopub.execute_input': '2024-08-08T14:40:39.922604Z',\n",
       "     'shell.execute_reply': '2024-08-08T14:40:39.925287Z',\n",
       "     'iopub.status.idle': '2024-08-08T14:40:39.925287Z'}},\n",
       "   'outputs': [{'output_type': 'execute_result',\n",
       "     'metadata': {},\n",
       "     'data': {'text/plain': '2'},\n",
       "     'execution_count': 4}],\n",
       "   'source': 'b',\n",
       "   'id': 'c20eb298'},\n",
       "  {'cell_type': 'code',\n",
       "   'execution_count': 5,\n",
       "   'metadata': {'tags': [],\n",
       "    'papermill': {'exception': False,\n",
       "     'start_time': '2024-08-08T14:40:39.927317',\n",
       "     'end_time': '2024-08-08T14:40:39.933451',\n",
       "     'duration': 0.006134,\n",
       "     'status': 'completed'},\n",
       "    'execution': {'iopub.status.busy': '2024-08-08T14:40:39.929321Z',\n",
       "     'iopub.execute_input': '2024-08-08T14:40:39.929321Z',\n",
       "     'iopub.status.idle': '2024-08-08T14:40:39.932428Z',\n",
       "     'shell.execute_reply': '2024-08-08T14:40:39.932330Z'}},\n",
       "   'outputs': [{'output_type': 'execute_result',\n",
       "     'metadata': {},\n",
       "     'data': {'text/plain': '48'},\n",
       "     'execution_count': 5}],\n",
       "   'source': 'a - b',\n",
       "   'id': 'cc5fcc32'}],\n",
       " 'metadata': {'kernelspec': {'display_name': 'jpapermill',\n",
       "   'language': 'python',\n",
       "   'name': 'python3'},\n",
       "  'language_info': {'name': 'python',\n",
       "   'version': '3.12.4',\n",
       "   'mimetype': 'text/x-python',\n",
       "   'codemirror_mode': {'name': 'ipython', 'version': 3},\n",
       "   'pygments_lexer': 'ipython3',\n",
       "   'nbconvert_exporter': 'python',\n",
       "   'file_extension': '.py'},\n",
       "  'orig_nbformat_minor': 2,\n",
       "  'papermill': {'default_parameters': {},\n",
       "   'parameters': {'a': 50, 'b': 2},\n",
       "   'environment_variables': {},\n",
       "   'version': '2.6.0',\n",
       "   'input_path': 'https://uni-bonn.sciebo.de/s/vxfLyh1CuU4bNwo/download',\n",
       "   'output_path': 'outputs/run_papermill.ipynb',\n",
       "   'start_time': '2024-08-08T14:40:38.584307',\n",
       "   'end_time': '2024-08-08T14:40:40.067460',\n",
       "   'duration': 1.483153,\n",
       "   'exception': None}},\n",
       " 'nbformat': 4,\n",
       " 'nbformat_minor': 5}"
      ]
     },
     "execution_count": 4,
     "metadata": {},
     "output_type": "execute_result"
    }
   ],
   "source": [
    "file_from_url = os.environ['input_url']\n",
    "pm.execute_notebook(\n",
    "    file_from_url,\n",
    "    'outputs/run_papermill.ipynb',\n",
    "    parameters=params    \n",
    ")"
   ]
  },
  {
   "cell_type": "code",
   "execution_count": null,
   "metadata": {},
   "outputs": [],
   "source": []
  }
 ],
 "metadata": {
  "kernelspec": {
   "display_name": "jpapermill",
   "language": "python",
   "name": "python3"
  },
  "language_info": {
   "codemirror_mode": {
    "name": "ipython",
    "version": 3
   },
   "file_extension": ".py",
   "mimetype": "text/x-python",
   "name": "python",
   "nbconvert_exporter": "python",
   "pygments_lexer": "ipython3",
   "version": "3.12.4"
  }
 },
 "nbformat": 4,
 "nbformat_minor": 2
}
